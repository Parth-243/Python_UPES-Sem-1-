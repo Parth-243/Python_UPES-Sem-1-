{
 "cells": [
  {
   "cell_type": "code",
   "execution_count": 13,
   "id": "0593e3b1-591b-424f-9806-57944845c691",
   "metadata": {},
   "outputs": [],
   "source": [
    "import numpy as np\n",
    "\n"
   ]
  },
  {
   "cell_type": "code",
   "execution_count": 14,
   "id": "de3bbecd-104f-4314-b859-2a8063dd30ec",
   "metadata": {},
   "outputs": [
    {
     "name": "stdout",
     "output_type": "stream",
     "text": [
      "[1. 2. 3. 4.]\n"
     ]
    }
   ],
   "source": [
    "list1= [1,2,3,4]\n",
    "arr1 = np.array(list1,dtype=np.float64)\n",
    "print(arr1)"
   ]
  },
  {
   "cell_type": "code",
   "execution_count": 15,
   "id": "5d3875b9-9f49-46b6-aafd-b54dd3e8718b",
   "metadata": {},
   "outputs": [
    {
     "data": {
      "text/plain": [
       "dtype('float64')"
      ]
     },
     "execution_count": 15,
     "metadata": {},
     "output_type": "execute_result"
    }
   ],
   "source": [
    "arr1.dtype"
   ]
  },
  {
   "cell_type": "code",
   "execution_count": 16,
   "id": "807a0e5f-4153-4708-9c44-76c83b80952f",
   "metadata": {},
   "outputs": [
    {
     "name": "stdout",
     "output_type": "stream",
     "text": [
      "[1 2 3 4]\n"
     ]
    }
   ],
   "source": [
    "list1= [1,2,3,4]\n",
    "arr1 = np.array(list1)\n",
    "print(arr1)"
   ]
  },
  {
   "cell_type": "code",
   "execution_count": 17,
   "id": "b3063fa1-e562-49f2-bc1b-c0ecc2deafd2",
   "metadata": {},
   "outputs": [
    {
     "data": {
      "text/plain": [
       "dtype('int64')"
      ]
     },
     "execution_count": 17,
     "metadata": {},
     "output_type": "execute_result"
    }
   ],
   "source": [
    "arr1.dtype"
   ]
  },
  {
   "cell_type": "code",
   "execution_count": 19,
   "id": "7ac42e1b-cfed-4cd6-9f32-04f9c00eb1a1",
   "metadata": {},
   "outputs": [],
   "source": [
    "a = np.array([1, 2, 3])\n",
    "b = np.array([4, 5, 6])"
   ]
  },
  {
   "cell_type": "code",
   "execution_count": 21,
   "id": "2a3e5fe1-c676-4266-af0a-4ef56359781f",
   "metadata": {},
   "outputs": [
    {
     "name": "stdout",
     "output_type": "stream",
     "text": [
      "Addition: [5 7 9]\n",
      "Subtraction: [-3 -3 -3]\n",
      "Multiplication: [ 4 10 18]\n",
      "Division: [0.25 0.4  0.5 ]\n"
     ]
    }
   ],
   "source": [
    "print(\"Addition:\", a + b)\n",
    "print(\"Subtraction:\", a - b)\n",
    "print(\"Multiplication:\", a * b)\n",
    "print(\"Division:\", a / b)"
   ]
  },
  {
   "cell_type": "code",
   "execution_count": 23,
   "id": "26a57028-9c0d-4ca1-a2fc-1fc2ca5ca9c2",
   "metadata": {},
   "outputs": [
    {
     "name": "stdout",
     "output_type": "stream",
     "text": [
      "First Element: 10\n",
      "Last Element: 50\n",
      "First Three Elements: [10 20 30]\n",
      "Elements from Index 2 to 4: [30 40 50]\n"
     ]
    }
   ],
   "source": [
    "arr = np.array([10, 20, 30, 40, 50])\n",
    "print(\"First Element:\", arr[0])\n",
    "print(\"Last Element:\", arr[-1])\n",
    "print(\"First Three Elements:\", arr[:3])\n",
    "print(\"Elements from Index 2 to 4:\", arr[2:5])"
   ]
  },
  {
   "cell_type": "code",
   "execution_count": 25,
   "id": "0e881217-fc2b-4c20-9edf-3739e2ef940c",
   "metadata": {},
   "outputs": [
    {
     "name": "stdout",
     "output_type": "stream",
     "text": [
      "Array + 10: [11 12 13]\n",
      "Array + 10: [10 20 30]\n"
     ]
    }
   ],
   "source": [
    "arr = np.array([1, 2, 3])\n",
    "print(\"Array + 10:\", arr + 10)\n",
    "print(\"Array + 10:\", arr * 10)"
   ]
  },
  {
   "cell_type": "code",
   "execution_count": 26,
   "id": "e999a8b9-d571-4a83-a265-66445a6c4d3e",
   "metadata": {},
   "outputs": [
    {
     "name": "stdout",
     "output_type": "stream",
     "text": [
      "Broadcasted Addition:\n",
      " [[11 22 33]\n",
      " [14 25 36]]\n"
     ]
    }
   ],
   "source": [
    "a = np.array([[1, 2, 3], [4, 5, 6]])\n",
    "b = np.array([10, 20, 30])\n",
    "\n",
    "print(\"Broadcasted Addition:\\n\", a + b)"
   ]
  },
  {
   "cell_type": "code",
   "execution_count": 27,
   "id": "8603125b-5526-4da9-89a5-38bb4438224f",
   "metadata": {},
   "outputs": [
    {
     "name": "stdout",
     "output_type": "stream",
     "text": [
      "Element-wise Multiplication:\n",
      " [[ 5 12]\n",
      " [21 32]]\n"
     ]
    }
   ],
   "source": [
    "A = np.array([[1, 2], [3, 4]])\n",
    "B = np.array([[5, 6], [7, 8]])\n",
    "print(\"Element-wise Multiplication:\\n\", A * B)"
   ]
  },
  {
   "cell_type": "code",
   "execution_count": 28,
   "id": "0f1709b6-fba6-4c95-9cde-fe3dcd0db543",
   "metadata": {},
   "outputs": [
    {
     "name": "stdout",
     "output_type": "stream",
     "text": [
      "Matrix Multiplication:\n",
      " [[19 22]\n",
      " [43 50]]\n"
     ]
    }
   ],
   "source": [
    "print(\"Matrix Multiplication:\\n\", np.dot(A, B))"
   ]
  },
  {
   "cell_type": "code",
   "execution_count": 29,
   "id": "61c7afce-78d7-4516-af39-ecf477dca4df",
   "metadata": {},
   "outputs": [
    {
     "name": "stdout",
     "output_type": "stream",
     "text": [
      "Original Matrix:\n",
      " [[1 2]\n",
      " [3 4]]\n",
      "Transpose:\n",
      " [[1 3]\n",
      " [2 4]]\n"
     ]
    }
   ],
   "source": [
    "A = np.array([[1, 2], [3, 4]])\n",
    "print(\"Original Matrix:\\n\", A)\n",
    "print(\"Transpose:\\n\", A.T)\n"
   ]
  },
  {
   "cell_type": "code",
   "execution_count": 30,
   "id": "095c713a-61a0-496c-88c7-43a8a860bb6c",
   "metadata": {},
   "outputs": [
    {
     "name": "stdout",
     "output_type": "stream",
     "text": [
      "Inverse:\n",
      " [[-2.   1. ]\n",
      " [ 1.5 -0.5]]\n"
     ]
    }
   ],
   "source": [
    "from numpy.linalg import inv\n",
    "\n",
    "A = np.array([[1, 2], [3, 4]])\n",
    "print(\"Inverse:\\n\", inv(A))\n"
   ]
  },
  {
   "cell_type": "code",
   "execution_count": 31,
   "id": "342d1524-a186-46fc-ba64-0e4677469b01",
   "metadata": {},
   "outputs": [
    {
     "name": "stdout",
     "output_type": "stream",
     "text": [
      "Original Array: [10 12 14 16 18 20]\n"
     ]
    }
   ],
   "source": [
    "arr = np.arange(10, 21, 2)\n",
    "print(\"Original Array:\", arr)"
   ]
  },
  {
   "cell_type": "code",
   "execution_count": 32,
   "id": "6c7667a0-fac6-4308-a364-07df0db95334",
   "metadata": {},
   "outputs": [
    {
     "name": "stdout",
     "output_type": "stream",
     "text": [
      "Modified Array: [10 12 14 -1 -1 -1]\n"
     ]
    }
   ],
   "source": [
    "arr[arr > 15] = -1\n",
    "print(\"Modified Array:\", arr)"
   ]
  },
  {
   "cell_type": "code",
   "execution_count": null,
   "id": "a8e919fa-8b0e-47b4-a929-eebb4d4e6ed0",
   "metadata": {},
   "outputs": [],
   "source": [
    "arr[0] = -1\n",
    "print(\"Modified Array:\", arr)"
   ]
  }
 ],
 "metadata": {
  "kernelspec": {
   "display_name": "Python 3 (ipykernel)",
   "language": "python",
   "name": "python3"
  },
  "language_info": {
   "codemirror_mode": {
    "name": "ipython",
    "version": 3
   },
   "file_extension": ".py",
   "mimetype": "text/x-python",
   "name": "python",
   "nbconvert_exporter": "python",
   "pygments_lexer": "ipython3",
   "version": "3.12.1"
  }
 },
 "nbformat": 4,
 "nbformat_minor": 5
}

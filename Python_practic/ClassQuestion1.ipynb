{
 "cells": [
  {
   "cell_type": "code",
   "execution_count": 1,
   "id": "569d30b5-e183-4a6c-9a71-9e4c4d14160a",
   "metadata": {},
   "outputs": [
    {
     "name": "stdout",
     "output_type": "stream",
     "text": [
      "Current Time: 2024-09-09 10:42:20\n",
      "Current Time: 2024-09-09 10:42:22\n"
     ]
    }
   ],
   "source": [
    "#1.write a program that display current time in pause for two second and display current time\n",
    "import time\n",
    "from datetime import datetime\n",
    "\n",
    "# Function to display current time\n",
    "def display_current_time():\n",
    "    current_time = datetime.now().strftime('%Y-%m-%d %H:%M:%S')\n",
    "    print(\"Current Time:\", current_time)\n",
    "\n",
    "# Display the current time\n",
    "display_current_time()\n",
    "\n",
    "# Pause for 2 seconds\n",
    "time.sleep(2)\n",
    "\n",
    "# Display the current time again\n",
    "display_current_time()\n"
   ]
  },
  {
   "cell_type": "code",
   "execution_count": 1,
   "id": "7da04b2b-2457-4f9a-b4a0-55d8a1005434",
   "metadata": {},
   "outputs": [
    {
     "name": "stdout",
     "output_type": "stream",
     "text": [
      "Files in the directory:\n",
      "Error: Directory '' not found.\n"
     ]
    }
   ],
   "source": [
    "# 2. write a program that takes directory location from user and returns a list that contains all the files in that location. You can use OS module to perform these action\n",
    "import os\n",
    "\n",
    "# Function to list all files in a directory\n",
    "def list_files_in_directory(directory):\n",
    "    try:\n",
    "        # List all files in the given directory\n",
    "        files = [f for f in os.listdir(directory) if os.path.isfile(os.path.join(directory, f))]\n",
    "        return files\n",
    "    except FileNotFoundError:\n",
    "        return f\"Error: Directory '{directory}' not found.\"\n",
    "    except Exception as e:\n",
    "        return f\"An error occurred: {e}\"\n",
    "\n",
    "# Take directory input from the user\n",
    "directory = input(\"Enter the directory location: \")\n",
    "\n",
    "# Get the list of files in the directory\n",
    "files_list = list_files_in_directory(directory)\n",
    "\n",
    "# Display the list of files\n",
    "print(\"Files in the directory:\")\n",
    "print(files_list)\n"
   ]
  },
  {
   "cell_type": "code",
   "execution_count": 2,
   "id": "a5b85a2f-b343-439b-b653-c3c8944ab4ab",
   "metadata": {},
   "outputs": [],
   "source": [
    "# 3. write a program that dates a list of SAP ID's and returns a list of addresses\n",
    "#input\n",
    "list =[123,\"234\"]\n",
    "#output\n",
    "res=[\"123@stu.upes.ac.in\",\"234@stu.upes.ac.in\"]\n"
   ]
  },
  {
   "cell_type": "code",
   "execution_count": 3,
   "id": "38306365-2241-4052-83fb-93b6bde9b951",
   "metadata": {},
   "outputs": [
    {
     "name": "stdout",
     "output_type": "stream",
     "text": [
      "['123@stu.upes.ac.in', '234@stu.upes.ac.in', '6738@stu.upes.ac.in']\n"
     ]
    }
   ],
   "source": [
    "#a. without using map, filter lamda or list comprehension\n",
    "def generate_email_address(sap_ids):\n",
    "    empty_list=[]\n",
    "    for id in sap_ids:\n",
    "        email= str(id)+\"@stu.upes.ac.in\"\n",
    "        empty_list.append(email)\n",
    "    return empty_list\n",
    "    \n",
    "sap_ids = [123, \"234\",\"6738\"]\n",
    "res = generate_email_address(sap_ids)\n",
    "print(res)\n"
   ]
  },
  {
   "cell_type": "code",
   "execution_count": 4,
   "id": "b86045d2-8db5-4359-b72e-17d645e58ff0",
   "metadata": {},
   "outputs": [
    {
     "name": "stdout",
     "output_type": "stream",
     "text": [
      "[123, '234']\n"
     ]
    },
    {
     "ename": "TypeError",
     "evalue": "'list' object is not callable",
     "output_type": "error",
     "traceback": [
      "\u001b[1;31m---------------------------------------------------------------------------\u001b[0m",
      "\u001b[1;31mTypeError\u001b[0m                                 Traceback (most recent call last)",
      "Cell \u001b[1;32mIn[4], line 8\u001b[0m\n\u001b[0;32m      5\u001b[0m    \u001b[38;5;28;01mreturn\u001b[39;00m result\n\u001b[0;32m      7\u001b[0m sap_ids \u001b[38;5;241m=\u001b[39m [\u001b[38;5;241m123\u001b[39m, \u001b[38;5;124m\"\u001b[39m\u001b[38;5;124m234\u001b[39m\u001b[38;5;124m\"\u001b[39m]\n\u001b[1;32m----> 8\u001b[0m result \u001b[38;5;241m=\u001b[39m \u001b[43mgenerate_email_address\u001b[49m\u001b[43m(\u001b[49m\u001b[43msap_ids\u001b[49m\u001b[43m)\u001b[49m\n\u001b[0;32m      9\u001b[0m \u001b[38;5;28mprint\u001b[39m(result)\n",
      "Cell \u001b[1;32mIn[4], line 4\u001b[0m, in \u001b[0;36mgenerate_email_address\u001b[1;34m(sap_ids)\u001b[0m\n\u001b[0;32m      2\u001b[0m \u001b[38;5;28;01mdef\u001b[39;00m \u001b[38;5;21mgenerate_email_address\u001b[39m(sap_ids):\n\u001b[0;32m      3\u001b[0m    \u001b[38;5;28mprint\u001b[39m(sap_ids)\n\u001b[1;32m----> 4\u001b[0m    result\u001b[38;5;241m=\u001b[39m \u001b[38;5;28;43mlist\u001b[39;49m\u001b[43m(\u001b[49m\u001b[38;5;28;43mmap\u001b[39;49m\u001b[43m(\u001b[49m\u001b[38;5;28;43;01mlambda\u001b[39;49;00m\u001b[43m \u001b[49m\u001b[43msap_id\u001b[49m\u001b[43m:\u001b[49m\u001b[43m \u001b[49m\u001b[38;5;28;43mstr\u001b[39;49m\u001b[43m(\u001b[49m\u001b[43msap_ids\u001b[49m\u001b[43m)\u001b[49m\u001b[43m \u001b[49m\u001b[38;5;241;43m+\u001b[39;49m\u001b[43m \u001b[49m\u001b[38;5;124;43m\"\u001b[39;49m\u001b[38;5;124;43m@stu.upes.ac.in\u001b[39;49m\u001b[38;5;124;43m\"\u001b[39;49m\u001b[43m,\u001b[49m\u001b[43m \u001b[49m\u001b[43msap_ids\u001b[49m\u001b[43m)\u001b[49m\u001b[43m)\u001b[49m\n\u001b[0;32m      5\u001b[0m    \u001b[38;5;28;01mreturn\u001b[39;00m result\n",
      "\u001b[1;31mTypeError\u001b[0m: 'list' object is not callable"
     ]
    }
   ],
   "source": [
    " #b.Using map, filter, lambda without list comprehension\n",
    "def generate_email_address(sap_ids):\n",
    "    print(sap_ids)\n",
    "    result= list(map(lambda sap_id: str(sap_ids) + \"@stu.upes.ac.in\", sap_ids))\n",
    "    return result\n",
    "    \n",
    "sap_ids = [123, \"234\"]\n",
    "result = generate_email_address(sap_ids)\n",
    "print(result)"
   ]
  },
  {
   "cell_type": "code",
   "execution_count": 8,
   "id": "b2a9a253-508a-4150-9f3c-b6e272a5678a",
   "metadata": {},
   "outputs": [
    {
     "name": "stdout",
     "output_type": "stream",
     "text": [
      "['123@stu.upes.ac.in', '234@stu.upes.ac.in']\n"
     ]
    }
   ],
   "source": [
    "#c. using list comprehension\n",
    "def create_email_addresses_c(sap_ids):\n",
    "    return [str(sap_id) + \"@stu.upes.ac.in\" for sap_id in sap_ids]\n",
    "\n",
    "\n",
    "sap_ids = [123, \"234\"]\n",
    "result = create_email_addresses_c(sap_ids)\n",
    "print(result)"
   ]
  },
  {
   "cell_type": "code",
   "execution_count": 15,
   "id": "dc00c982-6ba4-4c03-a7aa-0747b948943c",
   "metadata": {},
   "outputs": [
    {
     "name": "stdout",
     "output_type": "stream",
     "text": [
      "Testing .ipynb_checkpoints\n",
      "Testing a1.mp3\n",
      "Testing a2.oog\n",
      "Testing d1.docx\n",
      "Testing d2.png\n",
      "Testing d3.pdf\n",
      "Testing d4.txt\n",
      "Testing image.png\n",
      "Testing image1.jpg\n",
      "Testing image2.jpg\n",
      "Testing image2.png\n",
      "Testing misc1\n",
      "Testing misc2\n",
      "Testing misc3\n",
      "Testing tempdir\n",
      "Testing tempdir2\n",
      "Testing v1.mp4\n",
      "Testing v2.mkv\n"
     ]
    }
   ],
   "source": [
    "import os\n",
    "# get dir address\n",
    "address= r\"D:\\Jupyter notebook(UPES)\\Python_UPES-Sem-1-\\Organizer\"\n",
    "\n",
    "# change working dir\n",
    "os.chdir(address)\n",
    "\n",
    "# list of files\n",
    "list_of_files = os.listdir()\n",
    "\n",
    "# create Directory structure\n",
    "folders_to_be_created= \"video,Audio,Image,Docs,Misc\".split(\",\")\n",
    "\n",
    "for d in folders_to_be_created:\n",
    "    os.mkdir(d)\n",
    "\n",
    "#folderDirectory = {\n",
    "#    \"Image\":[\"jpg\", \"png\"],\n",
    "#   \"vidoes\":[\"mp4\",\"mkv\"]\n",
    "#}\n",
    "\n",
    "# move each file based on extension to corresponding folder \n",
    "for f in list_of_files:\n",
    "    print(f\"Testing {f}\")\n",
    "    ext = f.split(\".\")[-1]\n",
    "    \n",
    "    if ext == \"jpg\" or ext == \"png\":\n",
    "        folderName = \"Images\"\n",
    "        #move to image folder\n",
    "        os.system(f\"move ./{f} ./{folderName}/{f}\")"
   ]
  },
  {
   "cell_type": "code",
   "execution_count": 1,
   "id": "161f59b5-b139-4aa6-817c-723bceca144b",
   "metadata": {},
   "outputs": [
    {
     "ename": "NameError",
     "evalue": "name 'name' is not defined",
     "output_type": "error",
     "traceback": [
      "\u001b[1;31m---------------------------------------------------------------------------\u001b[0m",
      "\u001b[1;31mNameError\u001b[0m                                 Traceback (most recent call last)",
      "Cell \u001b[1;32mIn[2], line 64\u001b[0m\n\u001b[0;32m     60\u001b[0m                     os\u001b[38;5;241m.\u001b[39msystem(\u001b[38;5;124mf\u001b[39m\u001b[38;5;124m'\u001b[39m\u001b[38;5;124mmv \u001b[39m\u001b[38;5;124m\"\u001b[39m\u001b[38;5;132;01m{\u001b[39;00mfile_path\u001b[38;5;132;01m}\u001b[39;00m\u001b[38;5;124m\"\u001b[39m\u001b[38;5;124m \u001b[39m\u001b[38;5;124m\"\u001b[39m\u001b[38;5;132;01m{\u001b[39;00mmisc_destination\u001b[38;5;132;01m}\u001b[39;00m\u001b[38;5;124m\"\u001b[39m\u001b[38;5;124m'\u001b[39m)\n\u001b[0;32m     61\u001b[0m     \u001b[38;5;28mprint\u001b[39m(\u001b[38;5;124m\"\u001b[39m\u001b[38;5;124mFiles have been organized!\u001b[39m\u001b[38;5;124m\"\u001b[39m)\n\u001b[1;32m---> 64\u001b[0m \u001b[38;5;28;01mif\u001b[39;00m \u001b[43mname\u001b[49m \u001b[38;5;241m==\u001b[39m \u001b[38;5;124m\"\u001b[39m\u001b[38;5;124mmain\u001b[39m\u001b[38;5;124m\"\u001b[39m:\n\u001b[0;32m     65\u001b[0m     user_input \u001b[38;5;241m=\u001b[39m \u001b[38;5;28minput\u001b[39m(\u001b[38;5;124m\"\u001b[39m\u001b[38;5;124mEnter the directory path to organize: \u001b[39m\u001b[38;5;124m\"\u001b[39m)\n\u001b[0;32m     66\u001b[0m     \u001b[38;5;28;01mif\u001b[39;00m os\u001b[38;5;241m.\u001b[39mpath\u001b[38;5;241m.\u001b[39mexists(user_input):\n",
      "\u001b[1;31mNameError\u001b[0m: name 'name' is not defined"
     ]
    }
   ],
   "source": [
    "import os\n",
    "\n",
    "\n",
    "# Function to organize files into different folders\n",
    "\n",
    "\n",
    "def organize_files(directory):\n",
    "    # Detect the operating system using os.name\n",
    "    is_windows = os.name == 'nt'\n",
    "    # Define file categories and corresponding file extensions\n",
    "    file_types = {\n",
    "        'Videos': ['.mp4', '.mkv', '.avi', '.mov'],\n",
    "        'Audios': ['.mp3', '.wav', '.aac', '.flac'],\n",
    "        'Images': ['.jpg', '.jpeg', '.png', '.gif', '.bmp'],\n",
    "        'Documents': ['.pdf', '.doc', '.docx', '.xls', '.xlsx', '.ppt', '.pptx', '.txt'],\n",
    "        'Misc': []\n",
    "    }\n",
    "\n",
    "    # Create folders for each file category if they don't already exist\n",
    "    for folder in file_types.keys():\n",
    "        folder_path = os.path.join(directory, folder)\n",
    "        if not os.path.exists(folder_path):\n",
    "            os.makedirs(folder_path)\n",
    "\n",
    "    # Iterate over the files in the directory\n",
    "    for file_name in os.listdir(directory):\n",
    "        file_path = os.path.join(directory, file_name)\n",
    "\n",
    "        # Skip directories\n",
    "        if os.path.isdir(file_path):\n",
    "            continue\n",
    "        \n",
    "        # Determine the file extension\n",
    "        file_extension = os.path.splitext(file_name)[1].lower()\n",
    "\n",
    "        # Find the appropriate category for the file\n",
    "        moved = False\n",
    "        for folder, extensions in file_types.items():\n",
    "            if file_extension in extensions:\n",
    "                \n",
    "                # Move the file to the corresponding folder\n",
    "                destination = os.path.join(directory, folder, file_name)\n",
    "                \n",
    "                # Check if file already exists at the destination\n",
    "                if not os.path.exists(destination):\n",
    "                    if is_windows:\n",
    "                        os.system(f'move \"{file_path}\" \"{destination}\"')\n",
    "                    else:\n",
    "                        os.system(f'mv \"{file_path}\" \"{destination}\"')\n",
    "                moved = True\n",
    "                break\n",
    "        \n",
    "        # If no matching category is found, move to the 'Misc' folder\n",
    "        if not moved:\n",
    "            misc_destination = os.path.join(directory, 'Misc', file_name)\n",
    "            if not os.path.exists(misc_destination):\n",
    "                if is_windows:\n",
    "                    os.system(f'move \"{file_path}\" \"{misc_destination}\"')\n",
    "                else:\n",
    "                    os.system(f'mv \"{file_path}\" \"{misc_destination}\"')\n",
    "    print(\"Files have been organized!\")Example usage\n",
    "\n",
    "\n",
    "if name == \"main\":\n",
    "    user_input = input(\"Enter the directory path to organize: \")\n",
    "    if os.path.exists(user_input):\n",
    "        organize_files(user_input)\n",
    "    else:\n",
    "        print(\"Invalid directory path!\")"
   ]
  },
  {
   "cell_type": "code",
   "execution_count": null,
   "id": "ade274e6-359f-4ee9-9e50-c35851113413",
   "metadata": {},
   "outputs": [],
   "source": [
    "import tkinter as tk\n",
    "\n",
    "\n",
    "Create the main window\n",
    "\n",
    "\n",
    "root = tk.Tk()\n",
    "root.title(\"Simple Input and Button GUI\")\n",
    "root.geometry(\"300x150\")  # Set the window sizeFunction to be called when the button is clicked\n",
    "\n",
    "\n",
    "def show_input():\n",
    "    user_input = entry.get()  # Get text from the entry box\n",
    "    print(\"User input:\", user_input)Label for entry\n",
    "\n",
    "\n",
    "label = tk.Label(root, text=\"Enter something:\")\n",
    "label.pack(pady=10)  # Add padding around the labelEntry (input block) where user can type text\n",
    "\n",
    "\n",
    "entry = tk.Entry(root, width=30)\n",
    "entry.pack(pady=5)Button to trigger the function show_input\n",
    "\n",
    "\n",
    "button = tk.Button(root, text=\"Submit\", command=show_input)\n",
    "button.pack(pady=10)Start the GUI event loop\n",
    "\n",
    "\n"
   ]
  }
 ],
 "metadata": {
  "kernelspec": {
   "display_name": "Python 3",
   "language": "python",
   "name": "python3"
  },
  "language_info": {
   "codemirror_mode": {
    "name": "ipython",
    "version": 3
   },
   "file_extension": ".py",
   "mimetype": "text/x-python",
   "name": "python",
   "nbconvert_exporter": "python",
   "pygments_lexer": "ipython3",
   "version": "3.12.1"
  }
 },
 "nbformat": 4,
 "nbformat_minor": 5
}

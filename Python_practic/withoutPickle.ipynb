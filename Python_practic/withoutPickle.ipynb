{
 "cells": [
  {
   "cell_type": "code",
   "execution_count": 5,
   "metadata": {},
   "outputs": [
    {
     "name": "stdout",
     "output_type": "stream",
     "text": [
      "The Following data is: [1, 2, 3, 4, 5, 'a', 'b', 'c'] and the data type is <class 'list'>\n"
     ]
    }
   ],
   "source": [
    "Alist = [1, 2, 3, 4, 5, \"a\", \"b\", \"c\"]\n",
    "fileName = \"listData.txt\"\n",
    "with open(fileName, 'w') as file:\n",
    "        # Convert the list to a string \n",
    "        file.write(str(Alist))\n",
    "\n",
    "\n",
    "with open(fileName, 'r') as file:\n",
    "        # Read the file contents and use eval to convert the string back to a list\n",
    "        data = file.read()\n",
    "\n",
    "listData=eval(data)\n",
    "print(f\"The Following data is: {listData} and the data type is {type(listData)}\")"
   ]
  },
  {
   "cell_type": "code",
   "execution_count": 7,
   "metadata": {},
   "outputs": [
    {
     "name": "stdout",
     "output_type": "stream",
     "text": [
      "The Data is converted into Byte formate\n",
      "The following Data is: [1, 2, 3, 4, 5, 'a', 'b', 'c']\n"
     ]
    }
   ],
   "source": [
    "import pickle\n",
    "\n",
    "def savingDataUsingPickle(data, fileName):\n",
    "    with open(fileName, 'wb') as file:\n",
    "        pickle.dump(data, file)\n",
    "    print(\"The Data is converted into Byte formate\")\n",
    "\n",
    "def loadingDataUsingPickle(fileName):\n",
    "    with open(fileName, 'rb') as file:  \n",
    "        return pickle.load(file)\n",
    "    \n",
    "listname=[1,2,3,4,'a','b']\n",
    "fileName= \"file_name.pickle\";\n",
    "savingDataUsingPickle(listData,fileName)\n",
    "\n",
    "print(f\"The following Data is: {loadingDataUsingPickle(fileName)}\")\n"
   ]
  }
 ],
 "metadata": {
  "kernelspec": {
   "display_name": "Python 3",
   "language": "python",
   "name": "python3"
  },
  "language_info": {
   "codemirror_mode": {
    "name": "ipython",
    "version": 3
   },
   "file_extension": ".py",
   "mimetype": "text/x-python",
   "name": "python",
   "nbconvert_exporter": "python",
   "pygments_lexer": "ipython3",
   "version": "3.12.1"
  }
 },
 "nbformat": 4,
 "nbformat_minor": 2
}

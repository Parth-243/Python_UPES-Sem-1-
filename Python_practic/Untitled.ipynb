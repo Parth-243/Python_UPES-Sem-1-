{
 "cells": [
  {
   "cell_type": "code",
   "execution_count": 3,
   "id": "9dc1993c-66db-49c3-9e4b-9af3bcb029bc",
   "metadata": {},
   "outputs": [
    {
     "name": "stdout",
     "output_type": "stream",
     "text": [
      "This Module Printing!!!\n"
     ]
    }
   ],
   "source": [
    "import mymodule\n"
   ]
  },
  {
   "cell_type": "code",
   "execution_count": 4,
   "id": "b53ff040-1610-4713-bc4b-a6fb87d8ef9d",
   "metadata": {},
   "outputs": [
    {
     "name": "stdout",
     "output_type": "stream",
     "text": [
      "3.14\n"
     ]
    }
   ],
   "source": [
    "print(mymodule.PI)"
   ]
  },
  {
   "cell_type": "code",
   "execution_count": 4,
   "id": "836fc699-e075-4126-bcbb-581fdb31f56f",
   "metadata": {},
   "outputs": [
    {
     "data": {
      "text/plain": [
       "3.14"
      ]
     },
     "execution_count": 4,
     "metadata": {},
     "output_type": "execute_result"
    }
   ],
   "source": [
    "mymodule.PI"
   ]
  },
  {
   "cell_type": "code",
   "execution_count": 8,
   "id": "cdaf593c-9bc9-44e0-ac26-8eb5c5f3031f",
   "metadata": {},
   "outputs": [
    {
     "name": "stdout",
     "output_type": "stream",
     "text": [
      "5\n"
     ]
    }
   ],
   "source": [
    "add= mymodule.myadd(2,3)\n",
    "print(add)"
   ]
  },
  {
   "cell_type": "code",
   "execution_count": 7,
   "id": "2f872fa2-e47a-4696-aff5-0db7307fa613",
   "metadata": {},
   "outputs": [],
   "source": [
    "sub= mymodule.mydiff(3,2)"
   ]
  },
  {
   "cell_type": "code",
   "execution_count": 9,
   "id": "06d4ed19-f0db-4705-97c5-26c8534ff833",
   "metadata": {},
   "outputs": [
    {
     "name": "stdout",
     "output_type": "stream",
     "text": [
      "1\n"
     ]
    }
   ],
   "source": [
    "print(sub)"
   ]
  },
  {
   "cell_type": "code",
   "execution_count": null,
   "id": "889c1273-f00c-44ba-bf09-f9e3de4884bf",
   "metadata": {},
   "outputs": [],
   "source": []
  }
 ],
 "metadata": {
  "kernelspec": {
   "display_name": "Python 3 (ipykernel)",
   "language": "python",
   "name": "python3"
  },
  "language_info": {
   "codemirror_mode": {
    "name": "ipython",
    "version": 3
   },
   "file_extension": ".py",
   "mimetype": "text/x-python",
   "name": "python",
   "nbconvert_exporter": "python",
   "pygments_lexer": "ipython3",
   "version": "3.12.1"
  }
 },
 "nbformat": 4,
 "nbformat_minor": 5
}

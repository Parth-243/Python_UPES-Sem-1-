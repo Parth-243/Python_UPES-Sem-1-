{
 "cells": [
  {
   "cell_type": "code",
   "execution_count": 1,
   "id": "569d30b5-e183-4a6c-9a71-9e4c4d14160a",
   "metadata": {},
   "outputs": [
    {
     "name": "stdout",
     "output_type": "stream",
     "text": [
      "Current Time: 2024-09-09 10:42:20\n",
      "Current Time: 2024-09-09 10:42:22\n"
     ]
    }
   ],
   "source": [
    "#1.write a program that display current time in pause for two second and display current time\n",
    "import time\n",
    "from datetime import datetime\n",
    "\n",
    "# Function to display current time\n",
    "def display_current_time():\n",
    "    current_time = datetime.now().strftime('%Y-%m-%d %H:%M:%S')\n",
    "    print(\"Current Time:\", current_time)\n",
    "\n",
    "# Display the current time\n",
    "display_current_time()\n",
    "\n",
    "# Pause for 2 seconds\n",
    "time.sleep(2)\n",
    "\n",
    "# Display the current time again\n",
    "display_current_time()\n"
   ]
  },
  {
   "cell_type": "code",
   "execution_count": 2,
   "id": "7da04b2b-2457-4f9a-b4a0-55d8a1005434",
   "metadata": {},
   "outputs": [
    {
     "name": "stdin",
     "output_type": "stream",
     "text": [
      "Enter the directory location:  D:\\Jupyter notebook(UPES)\\Python_UPES-Sem-1-\n"
     ]
    },
    {
     "name": "stdout",
     "output_type": "stream",
     "text": [
      "Files in the directory:\n",
      "['FuncAsFirstClass.ipynb', 'Python_Assignment_1.ipynb']\n"
     ]
    }
   ],
   "source": [
    "# 2. write a program that takes directory location from user and returns a list that contains all the files in that location. You can use OS module to perform these action\n",
    "import os\n",
    "\n",
    "# Function to list all files in a directory\n",
    "def list_files_in_directory(directory):\n",
    "    try:\n",
    "        # List all files in the given directory\n",
    "        files = [f for f in os.listdir(directory) if os.path.isfile(os.path.join(directory, f))]\n",
    "        return files\n",
    "    except FileNotFoundError:\n",
    "        return f\"Error: Directory '{directory}' not found.\"\n",
    "    except Exception as e:\n",
    "        return f\"An error occurred: {e}\"\n",
    "\n",
    "# Take directory input from the user\n",
    "directory = input(\"Enter the directory location: \")\n",
    "\n",
    "# Get the list of files in the directory\n",
    "files_list = list_files_in_directory(directory)\n",
    "\n",
    "# Display the list of files\n",
    "print(\"Files in the directory:\")\n",
    "print(files_list)\n"
   ]
  },
  {
   "cell_type": "code",
   "execution_count": 9,
   "id": "a5b85a2f-b343-439b-b653-c3c8944ab4ab",
   "metadata": {},
   "outputs": [],
   "source": [
    "# 3. write a program that dates a list of SAP ID's and returns a list of addresses\n",
    "#input\n",
    "list =[123,\"234\"]\n",
    "#output\n",
    "res=[\"123@stu.upes.ac.in\",\"234@stu.upes.ac.in\"]\n",
    "\n",
    "\n",
    "\n",
    "\n",
    "\n",
    "\n"
   ]
  },
  {
   "cell_type": "code",
   "execution_count": 16,
   "id": "38306365-2241-4052-83fb-93b6bde9b951",
   "metadata": {},
   "outputs": [
    {
     "name": "stdout",
     "output_type": "stream",
     "text": [
      "['123@stu.upes.ac.in', '234@stu.upes.ac.in', '6738@stu.upes.ac.in']\n"
     ]
    }
   ],
   "source": [
    "#a. without using map, filter lamda or list comprehension\n",
    "def generate_email_address(sap_ids):\n",
    "    empty_list=[]\n",
    "    for id in sap_ids:\n",
    "        email= str(id)+\"@stu.upes.ac.in\"\n",
    "        empty_list.append(email)\n",
    "    return empty_list\n",
    "    \n",
    "sap_ids = [123, \"234\",\"6738\"]\n",
    "res = generate_email_address(sap_ids)\n",
    "print(res)\n"
   ]
  },
  {
   "cell_type": "code",
   "execution_count": 14,
   "id": "b86045d2-8db5-4359-b72e-17d645e58ff0",
   "metadata": {},
   "outputs": [
    {
     "ename": "NameError",
     "evalue": "name 'email_id' is not defined",
     "output_type": "error",
     "traceback": [
      "\u001b[1;31m---------------------------------------------------------------------------\u001b[0m",
      "\u001b[1;31mNameError\u001b[0m                                 Traceback (most recent call last)",
      "Cell \u001b[1;32mIn[14], line 7\u001b[0m\n\u001b[0;32m      5\u001b[0m \u001b[38;5;66;03m# Input\u001b[39;00m\n\u001b[0;32m      6\u001b[0m sap_ids \u001b[38;5;241m=\u001b[39m [\u001b[38;5;241m123\u001b[39m, \u001b[38;5;124m\"\u001b[39m\u001b[38;5;124m234\u001b[39m\u001b[38;5;124m\"\u001b[39m]\n\u001b[1;32m----> 7\u001b[0m result \u001b[38;5;241m=\u001b[39m \u001b[43mgenerate_email_address\u001b[49m\u001b[43m(\u001b[49m\u001b[43msap_ids\u001b[49m\u001b[43m)\u001b[49m\n\u001b[0;32m      8\u001b[0m \u001b[38;5;28mprint\u001b[39m(result)\n",
      "Cell \u001b[1;32mIn[14], line 3\u001b[0m, in \u001b[0;36mgenerate_email_address\u001b[1;34m(sap_ids)\u001b[0m\n\u001b[0;32m      2\u001b[0m \u001b[38;5;28;01mdef\u001b[39;00m \u001b[38;5;21mgenerate_email_address\u001b[39m(sap_ids):\n\u001b[1;32m----> 3\u001b[0m    \u001b[38;5;28;01mreturn\u001b[39;00m \u001b[43memail_id\u001b[49m(\u001b[38;5;28mmap\u001b[39m(\u001b[38;5;28;01mlambda\u001b[39;00m sap_id: \u001b[38;5;28mstr\u001b[39m(sap_id) \u001b[38;5;241m+\u001b[39m \u001b[38;5;124m\"\u001b[39m\u001b[38;5;124m@stu.upes.ac.in\u001b[39m\u001b[38;5;124m\"\u001b[39m, sap_ids))\n",
      "\u001b[1;31mNameError\u001b[0m: name 'email_id' is not defined"
     ]
    }
   ],
   "source": [
    " #b.Using map, filter, lambda without list comprehension\n",
    "def generate_email_address(sap_ids):\n",
    "    result=map(lambda sap_id: str(sap_id) + \"@stu.upes.ac.in\", sap_ids)\n",
    "    return result\n",
    "sap_ids = [123, \"234\"]\n",
    "result = generate_email_address(sap_ids)\n",
    "print(result)"
   ]
  },
  {
   "cell_type": "code",
   "execution_count": 8,
   "id": "b2a9a253-508a-4150-9f3c-b6e272a5678a",
   "metadata": {},
   "outputs": [
    {
     "name": "stdout",
     "output_type": "stream",
     "text": [
      "['123@stu.upes.ac.in', '234@stu.upes.ac.in']\n"
     ]
    }
   ],
   "source": [
    "#c. using list comprehension\n",
    "def create_email_addresses_c(sap_ids):\n",
    "    return [str(sap_id) + \"@stu.upes.ac.in\" for sap_id in sap_ids]\n",
    "\n",
    "# Input\n",
    "sap_ids = [123, \"234\"]\n",
    "result = create_email_addresses_c(sap_ids)\n",
    "print(result)"
   ]
  },
  {
   "cell_type": "code",
   "execution_count": null,
   "id": "dc00c982-6ba4-4c03-a7aa-0747b948943c",
   "metadata": {},
   "outputs": [],
   "source": []
  }
 ],
 "metadata": {
  "kernelspec": {
   "display_name": "Python 3 (ipykernel)",
   "language": "python",
   "name": "python3"
  },
  "language_info": {
   "codemirror_mode": {
    "name": "ipython",
    "version": 3
   },
   "file_extension": ".py",
   "mimetype": "text/x-python",
   "name": "python",
   "nbconvert_exporter": "python",
   "pygments_lexer": "ipython3",
   "version": "3.12.1"
  }
 },
 "nbformat": 4,
 "nbformat_minor": 5
}

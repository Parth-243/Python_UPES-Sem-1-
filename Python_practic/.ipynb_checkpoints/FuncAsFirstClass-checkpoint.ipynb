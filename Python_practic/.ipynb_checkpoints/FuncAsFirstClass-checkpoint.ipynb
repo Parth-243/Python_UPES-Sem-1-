{
 "cells": [
  {
   "cell_type": "code",
   "execution_count": null,
   "id": "c686172f-9ec6-4e04-b4f5-1faef4d5659b",
   "metadata": {},
   "outputs": [],
   "source": []
  }
 ],
 "metadata": {
  "kernelspec": {
   "display_name": "",
   "name": ""
  },
  "language_info": {
   "name": ""
  }
 },
 "nbformat": 4,
 "nbformat_minor": 5
}

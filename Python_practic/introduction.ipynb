{
 "cells": [
  {
   "cell_type": "code",
   "execution_count": 1,
   "id": "a3a4bfa0-0cc1-4128-80f9-bcb3f178c78a",
   "metadata": {},
   "outputs": [
    {
     "name": "stdout",
     "output_type": "stream",
     "text": [
      "This is Parth Shrivastava\n"
     ]
    }
   ],
   "source": [
    "print(\"This is Parth Shrivastava\")"
   ]
  },
  {
   "cell_type": "code",
   "execution_count": 2,
   "id": "bb5b3858-767e-4a43-a4be-8821f96385bf",
   "metadata": {},
   "outputs": [
    {
     "name": "stdout",
     "output_type": "stream",
     "text": [
      "Python\n"
     ]
    }
   ],
   "source": [
    "# Example of Comment in Python\n",
    "name= \"Python\"\n",
    "print(name)"
   ]
  },
  {
   "cell_type": "code",
   "execution_count": 5,
   "id": "3542c1fd-8a51-4ac7-9c34-4309af9f831f",
   "metadata": {},
   "outputs": [
    {
     "name": "stdout",
     "output_type": "stream",
     "text": [
      "24\n",
      "45\n",
      "1456.8\n",
      "John\n"
     ]
    }
   ],
   "source": [
    "# variable in Python \n",
    "# Rules for Python variables\n",
    "\n",
    "   #A Python variable name must start with a letter or the underscore character.\n",
    "    #-A Python variable name cannot start with a number.\n",
    "    #-A Python variable name can only contain alpha-numeric characters and underscores (A-z, 0-9, and _ ).\n",
    "    #-Variable in Python names are case-sensitive (name, Name, and NAME are three different variables).\n",
    "    #-The reserved words(keywords) in Python cannot be used to name the variable in Python.\n",
    "    \n",
    "age = 45\n",
    "salary = 1456.8\n",
    "name = \"John\"\n",
    "_b=24\n",
    "\n",
    "print(_b)\n",
    "print(age)\n",
    "print(salary)\n",
    "print(name)\n",
    "\n",
    "\n"
   ]
  },
  {
   "cell_type": "code",
   "execution_count": null,
   "id": "4d0bc54b-01a7-4741-90e8-624ee43f9034",
   "metadata": {},
   "outputs": [],
   "source": []
  }
 ],
 "metadata": {
  "kernelspec": {
   "display_name": "Python 3 (ipykernel)",
   "language": "python",
   "name": "python3"
  },
  "language_info": {
   "codemirror_mode": {
    "name": "ipython",
    "version": 3
   },
   "file_extension": ".py",
   "mimetype": "text/x-python",
   "name": "python",
   "nbconvert_exporter": "python",
   "pygments_lexer": "ipython3",
   "version": "3.12.1"
  }
 },
 "nbformat": 4,
 "nbformat_minor": 5
}

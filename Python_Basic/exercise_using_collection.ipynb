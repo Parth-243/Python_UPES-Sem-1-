{
 "cells": [
  {
   "cell_type": "code",
   "execution_count": 20,
   "id": "baef46fe-8251-41bf-a148-6005fb2ccaa3",
   "metadata": {},
   "outputs": [
    {
     "name": "stdin",
     "output_type": "stream",
     "text": [
      "Enter your favorite food ('q' for Quit):  Tater Tots\n",
      "Enter the price of food:  8.99\n",
      "Enter your favorite food ('q' for Quit):  Key Lime Pie\n",
      "Enter the price of food:  5.00\n",
      "Enter your favorite food ('q' for Quit):  Cobb Salad\n",
      "Enter the price of food:  9.56\n",
      "Enter your favorite food ('q' for Quit):  Pot Roast\n",
      "Enter the price of food:  3.99\n",
      "Enter your favorite food ('q' for Quit):  Banana Split\n",
      "Enter the price of food:  7.90\n",
      "Enter your favorite food ('q' for Quit):  Q\n"
     ]
    },
    {
     "name": "stdout",
     "output_type": "stream",
     "text": [
      "--------YOUR CART---------\n",
      "Tater Tots: $8.99\n",
      "Key Lime Pie: $5.0\n",
      "Cobb Salad: $9.56\n",
      "Pot Roast: $3.99\n",
      "Banana Split: $7.9\n",
      "TOTAL: $35.44\n"
     ]
    }
   ],
   "source": [
    "# Shooping cart program\n",
    "\n",
    "foods=[]\n",
    "prices=[]\n",
    "total=0\n",
    "while True:\n",
    "    food= input(\"Enter your favorite food ('q' for Quit): \")\n",
    "    if food.lower()==\"q\":\n",
    "        break;\n",
    "    \n",
    "    price= float(input(\"Enter the price of food: \"))\n",
    "    foods.append(food)\n",
    "    prices.append(price)\n",
    "\n",
    "print(\"--------YOUR CART---------\")\n",
    "i=0\n",
    "for food in foods:\n",
    "    print(f\"{food}: ${prices[i]}\")\n",
    "    i=i+1\n",
    "\n",
    "for price in prices:\n",
    "    total+=price\n",
    "\n",
    "print(f\"TOTAL: ${total}\")"
   ]
  },
  {
   "cell_type": "code",
   "execution_count": 11,
   "id": "1214bcd6-da6b-4782-8778-70acd5f1f0dc",
   "metadata": {},
   "outputs": [
    {
     "name": "stdout",
     "output_type": "stream",
     "text": [
      "['apple', 'orange', 'banana', 'coconut']\n",
      "apple\n",
      "orange\n",
      "banana\n",
      "coconut\n",
      "['celery', 'carrots', 'potatoes']\n",
      "celery\n",
      "carrots\n",
      "potatoes\n",
      "['chicken', 'fish', 'turkey']\n",
      "chicken\n",
      "fish\n",
      "turkey\n"
     ]
    }
   ],
   "source": [
    "# Creating an 2D list\n",
    "fruits=[\"apple\",\"orange\",\"banana\",\"coconut\"]\n",
    "vegetables =[\"celery\",\"carrots\", \"potatoes\"]\n",
    "meats=[\"chicken\",\"fish\",\"turkey\"]\n",
    "groceries=[fruits,vegetables,meats]\n",
    "print(groceries[0])\n",
    "print(groceries[0][0])\n",
    "print(groceries[0][1])\n",
    "print(groceries[0][2])\n",
    "print(groceries[0][3])\n",
    "\n",
    "print(groceries[1])\n",
    "print(groceries[1][0])\n",
    "print(groceries[1][1])\n",
    "print(groceries[1][2])\n",
    "\n",
    "print(groceries[2])\n",
    "print(groceries[2][0])\n",
    "print(groceries[2][1])\n",
    "print(groceries[2][2])\n",
    "# We can do this for tuple\n"
   ]
  },
  {
   "cell_type": "code",
   "execution_count": 13,
   "id": "c57ce267-ae84-4489-9a52-bf35f63cf709",
   "metadata": {},
   "outputs": [
    {
     "name": "stdout",
     "output_type": "stream",
     "text": [
      "1 2 3 \n",
      "\n",
      "4 5 6 \n",
      "\n",
      "7 8 9 \n",
      "\n",
      "* 0 # \n",
      "\n"
     ]
    }
   ],
   "source": [
    "# Mobile Keypad\n",
    "phone_keypad=((1,2,3),(4,5,6),(7,8,9),('*',0,'#')) # we have use tuple as it Immutable collection\n",
    "\n",
    "for key in phone_keypad:\n",
    "    for each_row in key:\n",
    "        print(each_row,end=\" \")\n",
    "\n",
    "    print(\"\\n\")\n"
   ]
  },
  {
   "cell_type": "code",
   "execution_count": 44,
   "id": "7efb7627-4bb4-49c8-b76b-c09d9b71a061",
   "metadata": {},
   "outputs": [
    {
     "name": "stdout",
     "output_type": "stream",
     "text": [
      "1. How many fingers are there in one hand?:\n",
      "A. 10\n",
      "B. 11\n",
      "C. 5\n",
      "D. 4\n"
     ]
    },
    {
     "name": "stdin",
     "output_type": "stream",
     "text": [
      "Enter [A,B,C,D]:  A\n"
     ]
    },
    {
     "name": "stdout",
     "output_type": "stream",
     "text": [
      "D is right answer\n",
      "------------------------------------------------------------------\n",
      "2. What RGB Stands for?:\n",
      "A. Red,Blue,Green\n",
      "B. Red,Black,Green\n",
      "C. Red,Orange,Yellow\n",
      "D. Red,Black,Grey\n"
     ]
    },
    {
     "name": "stdin",
     "output_type": "stream",
     "text": [
      "Enter [A,B,C,D]:  B\n"
     ]
    },
    {
     "name": "stdout",
     "output_type": "stream",
     "text": [
      "A is right answer\n",
      "------------------------------------------------------------------\n",
      "3. If A is Mother of B and B is sister of D, what is the relation A to D?:\n",
      "A. Mother\n",
      "B. Daughter\n",
      "C. Son\n",
      "D. Father\n"
     ]
    },
    {
     "name": "stdin",
     "output_type": "stream",
     "text": [
      "Enter [A,B,C,D]:  C\n"
     ]
    },
    {
     "name": "stdout",
     "output_type": "stream",
     "text": [
      "A is right answer\n",
      "------------------------------------------------------------------\n",
      "4. Which country invented pizza?:\n",
      "A. Germany\n",
      "B. Greece\n",
      "C. Italy\n",
      "D. France\n"
     ]
    },
    {
     "name": "stdin",
     "output_type": "stream",
     "text": [
      "Enter [A,B,C,D]:  A\n"
     ]
    },
    {
     "name": "stdout",
     "output_type": "stream",
     "text": [
      "C is right answer\n",
      "------------------------------------------------------------------\n",
      "5. Capital of India?:\n",
      "A. Jaipur\n",
      "B. Chennai\n",
      "C. Mumbai\n",
      "D. New Delhi\n"
     ]
    },
    {
     "name": "stdin",
     "output_type": "stream",
     "text": [
      "Enter [A,B,C,D]:  D\n"
     ]
    },
    {
     "name": "stdout",
     "output_type": "stream",
     "text": [
      "Correct\n",
      "------------------------------------------------------------------\n",
      "------------------------Final Result-----------------------------\n",
      "guesses: A B C A D \n",
      "Answers: D A A C D \n",
      "Total correct Ans: 1 out of 5\n",
      "\n",
      "You scord: 20%\n"
     ]
    }
   ],
   "source": [
    "# Python quiz game\n",
    "questions=((\"1. How many fingers are there in one hand?:\"),\n",
    "           (\"2. What RGB Stands for?:\"),\n",
    "           (\"3. If A is Mother of B and B is sister of D, what is the relation A to D?:\"),\n",
    "           (\"4. Which country invented pizza?:\"),\n",
    "           (\"5. Capital of India?:\"))\n",
    "\n",
    "options=((\"A. 10\",\"B. 11\",\"C. 5\",\"D. 4\"),\n",
    "         (\"A. Red,Blue,Green\",\"B. Red,Black,Green\",\"C. Red,Orange,Yellow\",\"D. Red,Black,Grey\"),\n",
    "         (\"A. Mother\",\"B. Daughter\",\"C. Son\",\"D. Father\"),\n",
    "         (\"A. Germany\",\"B. Greece\",\"C. Italy\",\"D. France\"),\n",
    "         (\"A. Jaipur\",\"B. Chennai\",\"C. Mumbai\",\"D. New Delhi\"))\n",
    "guesses=[]\n",
    "correct = ('D','A','A','C','D')\n",
    "correct_ans= 0;\n",
    "i=0\n",
    "for que in questions:\n",
    "    print(que)\n",
    "    for opt in options[i]:\n",
    "       print(opt,)\n",
    "    i+=1\n",
    "    guess = (input(\"Enter [A,B,C,D]: \")).upper()\n",
    "    guesses.append(guess)\n",
    "    if guess == correct[i-1]:\n",
    "        print(\"Correct\")\n",
    "        correct_ans+=1\n",
    "    else:\n",
    "        print(f\"{correct[i-1]} is right answer\")\n",
    "    print(\"------------------------------------------------------------------\")\n",
    "\n",
    "print(\"------------------------Final Result-----------------------------\")\n",
    "print(\"guesses: \",end=\"\");\n",
    "for your_ans in guesses:\n",
    "    print(your_ans,end=\" \")\n",
    "\n",
    "print(\"\\nAnswers: \",end=\"\");\n",
    "for correct_anss in correct:\n",
    "    print(correct_anss,end=\" \")\n",
    "\n",
    "print(\"\\nTotal correct Ans: \",end=\"\")\n",
    "print(f\"{correct_ans} out of {len(correct)}\")\n",
    "\n",
    "score = int(correct_ans/len(correct)*100)\n",
    "print(f\"\\nYou scord: {score}%\")"
   ]
  },
  {
   "cell_type": "code",
   "execution_count": 16,
   "id": "58cac8e8-cf70-442a-a161-8075152e6a9e",
   "metadata": {},
   "outputs": [
    {
     "name": "stdout",
     "output_type": "stream",
     "text": [
      "----------The Food Menu-------------\n"
     ]
    },
    {
     "name": "stdin",
     "output_type": "stream",
     "text": [
      "Enter a Food you wnat to order (Q/q for Quit):  pototo\n"
     ]
    },
    {
     "name": "stdout",
     "output_type": "stream",
     "text": [
      "The Following food is not avilable\n"
     ]
    },
    {
     "name": "stdin",
     "output_type": "stream",
     "text": [
      "Insert the price ofpototo: $ 23.00\n",
      "Enter a Food you wnat to order (Q/q for Quit):  q\n"
     ]
    },
    {
     "name": "stdout",
     "output_type": "stream",
     "text": [
      "Tater Tots: 8.99\n",
      "Key Lime Pie: 5.0\n",
      "Cobb Salad: 9.56\n",
      "Pot Roast: 3.99\n",
      "Banana Split: 7.9\n",
      "TOTAL: 35.44\n",
      "pototo: 23.0\n"
     ]
    }
   ],
   "source": [
    "# create a cncession stand program using Dictionary\n",
    "menu_item = {\n",
    "    \"Tater Tots\": 8.99,\n",
    "    \"Key Lime Pie\": 5.0,\n",
    "    \"Cobb Salad\": 9.56,\n",
    "    \"Pot Roast\": 3.99,\n",
    "    \"Banana Split\": 7.9,\n",
    "    \"TOTAL\": 35.44, \n",
    "}\n",
    "cart=[]\n",
    "\n",
    "print(\"----------The Food Menu-------------\")\n",
    "while True:\n",
    "    food= input(\"Enter a Food you wnat to order (Q/q for Quit): \").lower()\n",
    "    if food == 'q':\n",
    "        break\n",
    "        # elif menu_item.get(food) is not None\n",
    "    elif menu_item.get(food) != True:\n",
    "        print(\"The Following food is not avilable\")\n",
    "        price= float(input(f\"Insert the price of{food}: $\"))\n",
    "        menu_item.update({f\"{food}\":f\"{price}\"})\n",
    "        cart.append(food)\n",
    "    else:\n",
    "        cart.append(food)\n",
    "\n",
    "\n",
    "for key, value in menu_item.items():\n",
    "    print(f\"{key}: {value}\")\n",
    "                                                                                "
   ]
  },
  {
   "cell_type": "code",
   "execution_count": null,
   "id": "9287b8e5-3acf-4f55-8bf0-b60d1cd5bf8e",
   "metadata": {},
   "outputs": [],
   "source": []
  }
 ],
 "metadata": {
  "kernelspec": {
   "display_name": "Python 3 (ipykernel)",
   "language": "python",
   "name": "python3"
  },
  "language_info": {
   "codemirror_mode": {
    "name": "ipython",
    "version": 3
   },
   "file_extension": ".py",
   "mimetype": "text/x-python",
   "name": "python",
   "nbconvert_exporter": "python",
   "pygments_lexer": "ipython3",
   "version": "3.12.1"
  }
 },
 "nbformat": 4,
 "nbformat_minor": 5
}

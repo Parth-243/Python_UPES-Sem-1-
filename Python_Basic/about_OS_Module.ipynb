{
 "cells": [
  {
   "cell_type": "code",
   "execution_count": 15,
   "id": "e8deb29c-1a54-4684-89a6-ca795ef4b84e",
   "metadata": {},
   "outputs": [
    {
     "name": "stdout",
     "output_type": "stream",
     "text": [
      "D:\\Jupyter notebook(UPES)\\Python_UPES-Sem-1-\\Python_Basic\n",
      "D:\\Jupyter notebook(UPES)\\Python_UPES-Sem-1-\n"
     ]
    }
   ],
   "source": [
    "# ALL ABOUT OS MODULE IN PYTHON:-\n",
    "#The os module in Python provides a way of interacting with the operating system in a platform-independent way. \n",
    "#It offers a wide range of functions for tasks such as handling file operations, managing system paths, \n",
    "#and interfacing with the system environment.\n",
    "\n",
    "import os\n",
    "# it will show all of the attributs and methos with in the OS module\n",
    "# print(dir(os)) \n",
    "\n",
    "# getcwd()[get current working directory]\n",
    "print(os.getcwd())\n",
    "\n",
    "#chdir('abc/abc/abc/')[change directory]\n",
    "os.chdir('D:/Jupyter notebook(UPES)/Python_UPES-Sem-1-/')\n",
    "print(os.getcwd())"
   ]
  },
  {
   "cell_type": "code",
   "execution_count": 16,
   "id": "7da37dea-9b6b-41b0-970a-c7661096e55c",
   "metadata": {},
   "outputs": [
    {
     "name": "stdout",
     "output_type": "stream",
     "text": [
      "['.git', '.ipynb_checkpoints', 'counterFun.py', 'nestedFun.py', 'new.py', 'Organizer', 'Python_Assignment2.ipynb', 'Python_Assignment_1.ipynb', 'Python_Basic', 'Python_practic', 'Q8.py', 'RevisionInPython', 'Untitled.ipynb']\n"
     ]
    }
   ],
   "source": [
    "#listdir()[list the directory]\n",
    "print(os.listdir())"
   ]
  },
  {
   "cell_type": "code",
   "execution_count": 41,
   "id": "3b0e00c7-a628-41b7-be21-27bfd51ba892",
   "metadata": {},
   "outputs": [
    {
     "name": "stdout",
     "output_type": "stream",
     "text": [
      "None\n",
      "None\n"
     ]
    }
   ],
   "source": [
    "# mkdir('abc')[Make the new directory] and \n",
    "# makedirs('abc/abc') [make the new directory/also create Sub directory]\n",
    "print(os.mkdir('OS-Demo-1'))\n",
    "print(os.makedirs('OS-Demo-2/Sub-Dir-2'))"
   ]
  },
  {
   "cell_type": "code",
   "execution_count": 40,
   "id": "2ef00540-27b5-4b37-b842-1b4c95585c04",
   "metadata": {},
   "outputs": [],
   "source": [
    "# rmdir('abc')[remove or delete the directory] and \n",
    "# removedirs('abc/abc') [remove directory/also remove its Sub directory]\n",
    "os.rmdir('OS-Demo-1')\n",
    "os.removedirs('OS-Demo-2/Sub-Dir-2')"
   ]
  },
  {
   "cell_type": "code",
   "execution_count": 43,
   "id": "79af3ef0-e75e-471b-931d-5b352623f0bb",
   "metadata": {},
   "outputs": [
    {
     "name": "stdout",
     "output_type": "stream",
     "text": [
      "D:\\Jupyter notebook(UPES)\\Python_UPES-Sem-1-\n",
      "['.git', '.ipynb_checkpoints', 'counterFun.py', 'nestedFun.py', 'new.py', 'Organizer', 'OS-Demo-1', 'OS-Demo-2', 'Python_Assignment2.ipynb', 'Python_Assignment_1.ipynb', 'Python_Basic', 'Python_practic', 'Q8.py', 'RevisionInPython', 'Untitled.ipynb']\n",
      "['.git', '.ipynb_checkpoints', 'counterFun.py', 'nestedFun.py', 'new.py', 'Organizer', 'OS-Demo-2', 'Python_Assignment2.ipynb', 'Python_Assignment_1.ipynb', 'Python_Basic', 'Python_practic', 'Q8.py', 'RevisionInPython', 'Test-Demo-1', 'Untitled.ipynb']\n"
     ]
    }
   ],
   "source": [
    "# rename('file.txt', 'demo.txt') [it will remane the file name]\n",
    "print(os.getcwd())\n",
    "print(os.listdir())\n",
    "os.rename('OS-Demo-1','Test-Demo-1')\n",
    "print(os.listdir())"
   ]
  },
  {
   "cell_type": "code",
   "execution_count": 50,
   "id": "f443f172-85cf-4323-ab8e-3cf544985b35",
   "metadata": {},
   "outputs": [
    {
     "name": "stdout",
     "output_type": "stream",
     "text": [
      "os.stat_result(st_mode=16895, st_ino=3659174697269967, st_dev=16476983104368584160, st_nlink=1, st_uid=0, st_gid=0, st_size=0, st_atime=1730827236, st_mtime=1730827236, st_ctime=1730827236)\n",
      "\n",
      "\n",
      "1730827236.3663566\n",
      "2024-11-05 22:50:36.366357\n"
     ]
    }
   ],
   "source": [
    "from datetime import datetime\n",
    "# stat('file.txt') [it will so the status of the file like the size,creation date, modification date etc]\n",
    "print(os.stat('Test-Demo-1'))\n",
    "print('\\n')\n",
    "print(os.stat('Test-Demo-1').st_mtime)\n",
    "mod_time =os.stat('Test-Demo-1').st_mtime\n",
    "print(datetime.fromtimestamp(mod_time)) # convert the time in human readable formate"
   ]
  },
  {
   "cell_type": "code",
   "execution_count": 53,
   "id": "6b77c284-37c1-45ee-ac64-7a12c666220e",
   "metadata": {},
   "outputs": [
    {
     "name": "stdout",
     "output_type": "stream",
     "text": [
      "Current Directory: D:/Jupyter notebook(UPES)/Python_UPES-Sem-1-/Python_Basic\n",
      "Subdirectories: ['.ipynb_checkpoints']\n",
      "Files: ['about_OS_Module.ipynb', 'collections.ipynb', 'conditional_Statements.ipynb', 'exercise_using_collection.ipynb', 'exercise_using_conditionalStat.ipynb', 'exercise_using_loops.ipynb', 'exercise_using_mathFun.ipynb', 'exercise_using_stringFun.ipynb', 'format_Specifiers.ipynb', 'Hello.py', 'imput.py', 'loops.ipynb', 'operators.ipynb', 'pre_Define_Maths_Fun.ipynb', 'pre_Define_String_Fun.ipynb', 'revision1.ipynb', 'revision1.py', 'tempCodeRunnerFile.py', 'timemodule.ipynb', 'tycasting.py', 'variable.py']\n",
      "----------------------------------------\n",
      "Current Directory: D:/Jupyter notebook(UPES)/Python_UPES-Sem-1-/Python_Basic\\.ipynb_checkpoints\n",
      "Subdirectories: []\n",
      "Files: ['about_OS_Module-checkpoint.ipynb', 'collections-checkpoint.ipynb', 'conditional_Statements-checkpoint.ipynb', 'exercise_using_collection-checkpoint.ipynb', 'exercise_using_conditionalStat-checkpoint.ipynb', 'exercise_using_loops-checkpoint.ipynb', 'exercise_using_mathFun-checkpoint.ipynb', 'exercise_using_stringFun-checkpoint.ipynb', 'format_Specifiers-checkpoint.ipynb', 'imput-checkpoint.py', 'loops-checkpoint.ipynb', 'pre_Define_Maths_Fun-checkpoint.ipynb', 'pre_Define_String_Fun-checkpoint.ipynb', 'revision1-checkpoint.ipynb', 'timemodule-checkpoint.ipynb']\n",
      "----------------------------------------\n"
     ]
    }
   ],
   "source": [
    "# os.walk()-\n",
    "# The os.walk() function in Python is used to generate the file names in a directory tree by walking either top-down or bottom-up through the directory structure.\n",
    "# It’s particularly useful when you need to process files in a directory and its subdirectories, as it iteratively yields the directory path, directories within it, \n",
    "# and files within each directory.\n",
    "\n",
    "# How os.walk() Works-----------\n",
    "# os.walk() returns a generator that yields a tuple of three values for each directory it traverses:\n",
    "#     1. Directory Path (root): The path to the current directory being traversed.\n",
    "#     2. Directory Names (dirs): A list of subdirectories in the current directory.\n",
    "#     3. File Names (files): A list of files in the current directory.\n",
    "\n",
    "\n",
    "# Example of os.walk()--\n",
    "import os\n",
    "\n",
    "for dirpath, dirnames, filenames in os.walk('D:/Jupyter notebook(UPES)/Python_UPES-Sem-1-/Python_Basic'):\n",
    "    print(f\"Current Directory: {dirpath}\")\n",
    "    print(f\"Subdirectories: {dirnames}\")\n",
    "    print(f\"Files: {filenames}\")\n",
    "    print(\"-\" * 40)\n"
   ]
  },
  {
   "cell_type": "code",
   "execution_count": 59,
   "id": "5bc1df91-d545-4dd7-bf58-84acf84addf1",
   "metadata": {},
   "outputs": [
    {
     "name": "stdout",
     "output_type": "stream",
     "text": [
      "Found text file: D:/Jupyter notebook(UPES)/Python_UPES-Sem-1-/Python_Basic\\Hello.py\n",
      "Found text file: D:/Jupyter notebook(UPES)/Python_UPES-Sem-1-/Python_Basic\\imput.py\n",
      "Found text file: D:/Jupyter notebook(UPES)/Python_UPES-Sem-1-/Python_Basic\\revision1.py\n",
      "Found text file: D:/Jupyter notebook(UPES)/Python_UPES-Sem-1-/Python_Basic\\tempCodeRunnerFile.py\n",
      "Found text file: D:/Jupyter notebook(UPES)/Python_UPES-Sem-1-/Python_Basic\\tycasting.py\n",
      "Found text file: D:/Jupyter notebook(UPES)/Python_UPES-Sem-1-/Python_Basic\\variable.py\n",
      "Found text file: D:/Jupyter notebook(UPES)/Python_UPES-Sem-1-/Python_Basic\\.ipynb_checkpoints\\imput-checkpoint.py\n"
     ]
    }
   ],
   "source": [
    "# File Searching using os.walk()\n",
    "for dirpath, _, filenames in os.walk('D:/Jupyter notebook(UPES)/Python_UPES-Sem-1-/Python_Basic'):\n",
    "    for file in filenames:\n",
    "        if file.endswith('.py'):\n",
    "            print(f\"Found text file: {os.path.join(dirpath, file)}\")\n"
   ]
  },
  {
   "cell_type": "code",
   "execution_count": 69,
   "id": "fbe08a00-22d1-4d24-ab38-97cdc79f3e3e",
   "metadata": {},
   "outputs": [
    {
     "name": "stdout",
     "output_type": "stream",
     "text": [
      "Python_Basic\tycasting.py\n",
      "D:/Jupyter notebook(UPES)/Python_UPES-Sem-1-\n",
      "('D:/Jupyter notebook(UPES)/Python_UPES-Sem-1-', 'Python_Basic\\tycasting.py')\n",
      "False\n",
      "False\n",
      "False\n",
      "('D:/Jupyter notebook(UPES)/Python_UPES-Sem-1-/Python_Basic\\tycasting', '.py')\n"
     ]
    }
   ],
   "source": [
    "# os.path() []\n",
    "print(os.path.basename('D:/Jupyter notebook(UPES)/Python_UPES-Sem-1-/Python_Basic\\tycasting.py'))\n",
    "print(os.path.dirname('D:/Jupyter notebook(UPES)/Python_UPES-Sem-1-/Python_Basic\\tycasting.py'))\n",
    "print(os.path.split('D:/Jupyter notebook(UPES)/Python_UPES-Sem-1-/Python_Basic\\tycasting.py'))\n",
    "print(os.path.exists('Python_UPES-Sem-1-/Python_Basic\\tycasting.py'))\n",
    "print(os.path.isdir('D:/Jupyter notebook(UPES)/Python_UPES-Sem-1-/Python_Basic\\tycasting.py'))\n",
    "print(os.path.isfile('D:/Jupyter notebook(UPES)/Python_UPES-Sem-1-/Python_Basic\\tycasting.py'))\n",
    "print(os.path.splitext('D:/Jupyter notebook(UPES)/Python_UPES-Sem-1-/Python_Basic\\tycasting.py'))\n"
   ]
  },
  {
   "cell_type": "code",
   "execution_count": null,
   "id": "b7cabc9c-3c5b-41bd-98c4-329bc84fc0a6",
   "metadata": {},
   "outputs": [],
   "source": []
  }
 ],
 "metadata": {
  "kernelspec": {
   "display_name": "Python 3 (ipykernel)",
   "language": "python",
   "name": "python3"
  },
  "language_info": {
   "codemirror_mode": {
    "name": "ipython",
    "version": 3
   },
   "file_extension": ".py",
   "mimetype": "text/x-python",
   "name": "python",
   "nbconvert_exporter": "python",
   "pygments_lexer": "ipython3",
   "version": "3.12.1"
  }
 },
 "nbformat": 4,
 "nbformat_minor": 5
}

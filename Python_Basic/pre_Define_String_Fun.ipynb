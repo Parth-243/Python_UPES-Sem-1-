{
 "cells": [
  {
   "cell_type": "code",
   "execution_count": 2,
   "id": "650774ec-49e0-4d3e-8c1f-88bf35850dad",
   "metadata": {},
   "outputs": [
    {
     "name": "stdout",
     "output_type": "stream",
     "text": [
      "Hello, World!\n",
      "-------------------------\n",
      "Python is great!\n",
      "-------------------------\n",
      "This is a \n",
      "multi-line string.\n",
      "-------------------------\n",
      "This is another \n",
      "multi-line string.\n"
     ]
    }
   ],
   "source": [
    "# Understanding Strings in Python\n",
    "# In Python, a string is a sequence of characters enclosed within single quotes ('...'), double quotes (\"...\"), or triple quotes ('''...''' or \"\"\"...\"\"\"). \n",
    "# Strings are one of the fundamental data types in Python, and they are widely used to represent text-based information.\n",
    "\n",
    "# Creating Strings\n",
    "\n",
    "# Single quotes\n",
    "str1 = 'Hello, World!'\n",
    "\n",
    "# Double quotes\n",
    "str2 = \"Python is great!\"\n",
    "\n",
    "# Triple quotes for multi-line strings\n",
    "str3 = '''This is a \n",
    "multi-line string.'''\n",
    "\n",
    "str4 = \"\"\"This is another \n",
    "multi-line string.\"\"\"\n",
    "\n",
    "print(str1)\n",
    "print(\"-------------------------\")\n",
    "print(str2)\n",
    "print(\"-------------------------\")\n",
    "print(str3)\n",
    "print(\"-------------------------\")\n",
    "print(str4)\n"
   ]
  },
  {
   "cell_type": "code",
   "execution_count": 8,
   "id": "1005f096-2726-4a45-b1da-dc69b449cb2a",
   "metadata": {},
   "outputs": [
    {
     "name": "stdout",
     "output_type": "stream",
     "text": [
      "Hello\n",
      "Jello\n",
      "-------------------------\n",
      "P\n",
      "n\n",
      "-------------------------\n",
      "Python\n",
      "Programming\n",
      "Python\n",
      "Programmin\n"
     ]
    }
   ],
   "source": [
    "# String Properties\n",
    "\n",
    "# Immutability: Strings in Python are immutable, meaning that once a string is created, \n",
    "# it cannot be changed. Any modification to a string will result in the creation of a new string.\n",
    "original = \"Hello\"\n",
    "modified = original.replace(\"H\", \"J\")\n",
    "print(original)  # Output: Hello\n",
    "print(modified)  # Output: Jello\n",
    "\n",
    "print(\"-------------------------\")\n",
    "\n",
    "# Indexing: Strings are indexed, meaning each character in a string has a corresponding index. \n",
    "# Indexing starts at 0.\n",
    "text = \"Python\"\n",
    "print(text[0])   # Output: P\n",
    "print(text[-1])  # Output: n (last character)\n",
    "\n",
    "print(\"-------------------------\")\n",
    "\n",
    "# Slicing: You can extract parts of a string using slicing.\n",
    "text = \"Python Programming\"\n",
    "print(text[0:6])  # Output: Python # 6 is Exclude\n",
    "print(text[7:])   # Output: Programming\n",
    "print(text[:6])   # Output: Python\n",
    "print(text[-11:-1]) # Output: Programm\n",
    "\n"
   ]
  },
  {
   "cell_type": "code",
   "execution_count": 48,
   "id": "2566f301-dd11-4d26-8054-98e51fc0931a",
   "metadata": {},
   "outputs": [
    {
     "name": "stdout",
     "output_type": "stream",
     "text": [
      "1\n",
      "1234\n",
      "5678\n",
      "5678-9012-3456\n",
      "6\n",
      "13-6891-46\n",
      "1\n"
     ]
    }
   ],
   "source": [
    "# indexing= accessing og a sequence using [] (indexing operator)\n",
    "#           [start : end : step]\n",
    "credit_number = \"1234-5678-9012-3456\"\n",
    "print(credit_number[0])\n",
    "print(credit_number[:4])\n",
    "print(credit_number[5:9])\n",
    "print(credit_number[5:])\n",
    "print(credit_number[-1])\n",
    "print(credit_number[::2])\n",
    "print(credit_number[0])"
   ]
  },
  {
   "cell_type": "code",
   "execution_count": 10,
   "id": "8c8a6183-cfa6-4242-8e1e-32ca41a4ce17",
   "metadata": {},
   "outputs": [
    {
     "name": "stdout",
     "output_type": "stream",
     "text": [
      "13\n"
     ]
    }
   ],
   "source": [
    "# String Functions\n",
    "# Python provides numerous predefined functions and methods to manipulate strings. \n",
    "# Below are some of the most commonly used string methods:\n",
    "\n",
    "# 1. Length of String\n",
    "# len(): Returns the length of the string.\n",
    "text = \"Hello, World!\"\n",
    "print(len(text))  # Output: 13"
   ]
  },
  {
   "cell_type": "code",
   "execution_count": 11,
   "id": "876c562e-e150-4819-abc8-be975c8b05f1",
   "metadata": {},
   "outputs": [
    {
     "name": "stdout",
     "output_type": "stream",
     "text": [
      "HELLO\n",
      "hello\n",
      "Hello World\n",
      "Hello world\n"
     ]
    }
   ],
   "source": [
    "# 2. Changing Case\n",
    "    \n",
    "# str.upper(): Converts all characters to uppercase.\n",
    "text = \"hello\"\n",
    "print(text.upper())  # Output: HELLO\n",
    "\n",
    "# str.lower(): Converts all characters to lowercase.\n",
    "text = \"HELLO\"\n",
    "print(text.lower())  # Output: hello\n",
    "\n",
    "# str.title(): Converts the first character of each word to uppercase.\n",
    "text = \"hello world\"\n",
    "print(text.title())  # Output: Hello World\n",
    "\n",
    "# str.capitalize(): Capitalizes the first character of the string.\n",
    "text = \"hello world\"\n",
    "print(text.capitalize())  # Output: Hello world"
   ]
  },
  {
   "cell_type": "code",
   "execution_count": 12,
   "id": "54875341-0635-4882-bb40-a7ac51fb9d93",
   "metadata": {},
   "outputs": [
    {
     "name": "stdout",
     "output_type": "stream",
     "text": [
      "7\n",
      "-1\n",
      "14\n",
      "7\n"
     ]
    }
   ],
   "source": [
    "# 3. Finding Substrings\n",
    "\n",
    "    \n",
    "# str.find(sub): Returns the lowest index of the substring if found, otherwise returns -1.\n",
    "text = \"Hello, World!\"\n",
    "print(text.find(\"World\"))  # Output: 7\n",
    "print(text.find(\"Python\"))  # Output: -1\n",
    "\n",
    "# str.rfind(sub): Returns the highest index of the substring if found, otherwise returns -1.\n",
    "text = \"Hello, World! World!\"\n",
    "print(text.rfind(\"World\"))  # Output: 13\n",
    "\n",
    "# str.index(sub): Similar to find(), but raises a ValueError if the substring is not found.\n",
    "text = \"Hello, World!\"\n",
    "print(text.index(\"World\"))  # Output: 7\n",
    "# print(text.index(\"Python\"))  # Raises ValueError\n",
    "\n"
   ]
  },
  {
   "cell_type": "code",
   "execution_count": 13,
   "id": "f1278a5a-ad45-47e3-8835-f8b504b118d0",
   "metadata": {},
   "outputs": [
    {
     "name": "stdout",
     "output_type": "stream",
     "text": [
      "Hello, Python!\n"
     ]
    }
   ],
   "source": [
    "# 4. Replacing Substrings\n",
    "\n",
    "# str.replace(old, new, count): Replaces occurrences of old with new.\n",
    "text = \"Hello, World!\"\n",
    "print(text.replace(\"World\", \"Python\"))  # Output: Hello, Python!"
   ]
  },
  {
   "cell_type": "code",
   "execution_count": 16,
   "id": "caa5e9c9-f911-4856-aed8-e2321f25a01e",
   "metadata": {},
   "outputs": [
    {
     "name": "stdout",
     "output_type": "stream",
     "text": [
      "Hello, World!\n",
      "Hello, World!   \n",
      "   Hello, World!\n"
     ]
    }
   ],
   "source": [
    "# 5. Trimming Whitespace\n",
    "\n",
    "# str.strip(): Removes leading and trailing whitespace.\n",
    "text = \"  Hello, World!  \"\n",
    "print(text.strip())  # Output: Hello, World!\n",
    "\n",
    "# str.lstrip(): Removes leading whitespace.\n",
    "text = \"   Hello, World!   \"\n",
    "print(text.lstrip())  # Output: Hello, World!   \n",
    "\n",
    "# str.rstrip(): Removes trailing whitespace.\n",
    "text1 = \"   Hello, World!   \"\n",
    "print(text1.rstrip())  # Output:    Hello, World!\n",
    "\n"
   ]
  },
  {
   "cell_type": "code",
   "execution_count": 27,
   "id": "99d7906c-c6ed-4ea3-9886-a12ebc4c3a66",
   "metadata": {},
   "outputs": [
    {
     "name": "stdout",
     "output_type": "stream",
     "text": [
      "['Hello', 'World']\n",
      "Hello World\n"
     ]
    }
   ],
   "source": [
    "# 6. Joining Strings\n",
    "\n",
    "# str.join(iterable): Joins elements of an iterable (like a list) into a single string.\n",
    "words = [\"Hello\", \"World\"]\n",
    "sentence = \" \".join(words)\n",
    "print(words)\n",
    "print(sentence)  # Output: Hello World\n",
    "\n"
   ]
  },
  {
   "cell_type": "code",
   "execution_count": 30,
   "id": "86d62b34-dba9-4b6a-b738-8d39b482a9ee",
   "metadata": {},
   "outputs": [
    {
     "name": "stdout",
     "output_type": "stream",
     "text": [
      "['Hello', 'World!']\n",
      "['Hello', 'World']\n"
     ]
    }
   ],
   "source": [
    "# 7. Splitting Strings\n",
    "\n",
    "# str.split(separator): Splits the string into a list based on the separator.\n",
    "text = \"Hello World!\"\n",
    "print(text.split(\" \"))  # Output: ['Hello', 'World!']\n",
    "\n",
    "# str.splitlines(): Splits the string at line breaks and returns a list.\n",
    "text = \"Hello\\nWorld\"\n",
    "print(text.splitlines())  # Output: ['Hello', 'World']\n",
    "\n"
   ]
  },
  {
   "cell_type": "code",
   "execution_count": 19,
   "id": "fdfade19-48af-4c3d-a3e2-22a015351ced",
   "metadata": {},
   "outputs": [
    {
     "name": "stdout",
     "output_type": "stream",
     "text": [
      "True\n",
      "True\n"
     ]
    }
   ],
   "source": [
    "# 8. Checking String Content\n",
    "\n",
    "# str.startswith(prefix): Returns True if the string starts with the specified prefix.\n",
    "text = \"Hello, World!\"\n",
    "print(text.startswith(\"Hello\"))  # Output: True\n",
    "\n",
    "# str.endswith(suffix): Returns True if the string ends with the specified suffix.\n",
    "text = \"Hello, World!\"\n",
    "print(text.endswith(\"World!\"))  # Output: True\n",
    "\n"
   ]
  },
  {
   "cell_type": "code",
   "execution_count": 20,
   "id": "6adf8152-0218-448c-9116-7d0aa410e79c",
   "metadata": {},
   "outputs": [
    {
     "name": "stdout",
     "output_type": "stream",
     "text": [
      "My name is Alice and I am 30 years old.\n",
      "My name is Alice and I am 30 years old.\n"
     ]
    }
   ],
   "source": [
    "# 9. Formatting Strings\n",
    "\n",
    "# str.format(): Formats strings using placeholders.\n",
    "name = \"Alice\"\n",
    "age = 30\n",
    "print(\"My name is {} and I am {} years old.\".format(name, age))\n",
    "# Output: My name is Alice and I am 30 years old.\n",
    "\n",
    "# F-strings (Python 3.6+): Allows embedding expressions inside string literals.\n",
    "name = \"Alice\"\n",
    "age = 30\n",
    "print(f\"My name is {name} and I am {age} years old.\")\n",
    "# Output: My name is Alice and I am 30 years old."
   ]
  },
  {
   "cell_type": "code",
   "execution_count": null,
   "id": "3c3828e5-e4f5-4cd4-9974-b6b4f383c7ff",
   "metadata": {},
   "outputs": [],
   "source": [
    "# isdigit()-- check for degits\n",
    "# isalpha()-- check all the string is charater or not (parth-true, parth S-false, parth123-false)\n",
    "# .count(\"x\")-- it is use to count the total no. of x in a String "
   ]
  },
  {
   "cell_type": "code",
   "execution_count": 38,
   "id": "e394a5b7-c489-4a30-92b1-cd6aeed7b37f",
   "metadata": {},
   "outputs": [
    {
     "name": "stdin",
     "output_type": "stream",
     "text": [
      " abcabcaabc\n"
     ]
    },
    {
     "name": "stdout",
     "output_type": "stream",
     "text": [
      "False\n",
      "True\n",
      "4\n"
     ]
    }
   ],
   "source": [
    "# num = int(input(\"\")) -- it will give error because it only works with str value\n",
    "num = input(\"\")\n",
    "result1= num.isdigit()\n",
    "result2= num.isalpha()\n",
    "result3= num.count(\"a\")\n",
    "print(result1)\n",
    "print(result2)\n",
    "print(result3)"
   ]
  }
 ],
 "metadata": {
  "kernelspec": {
   "display_name": "Python 3 (ipykernel)",
   "language": "python",
   "name": "python3"
  },
  "language_info": {
   "codemirror_mode": {
    "name": "ipython",
    "version": 3
   },
   "file_extension": ".py",
   "mimetype": "text/x-python",
   "name": "python",
   "nbconvert_exporter": "python",
   "pygments_lexer": "ipython3",
   "version": "3.12.1"
  }
 },
 "nbformat": 4,
 "nbformat_minor": 5
}

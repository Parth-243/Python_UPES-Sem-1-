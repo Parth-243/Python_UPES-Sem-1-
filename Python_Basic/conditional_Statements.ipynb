{
 "cells": [
  {
   "cell_type": "code",
   "execution_count": 1,
   "id": "d744b022-0ec8-468d-8f31-c3387774e72d",
   "metadata": {},
   "outputs": [],
   "source": [
    "# In Python, conditional statements are used to execute certain blocks of code based on whether a condition (an expression that evaluates to True or False) is met. The primary conditional statement in Python is the if statement, and it can be expanded with elif (else if) and else to handle multiple conditions.\n",
    "# Key Conditional Statements:\n",
    "\n",
    "# 1. if statement: Executes a block of code if a condition is True.\n",
    "# 2. elif statement (else if): Checks another condition if the previous if condition was False.\n",
    "# 3. else statement: Executes a block of code if all the previous conditions were False."
   ]
  },
  {
   "cell_type": "code",
   "execution_count": 5,
   "id": "2fcec1aa-f883-4154-ab05-3b3d1ace6c4b",
   "metadata": {},
   "outputs": [
    {
     "name": "stdin",
     "output_type": "stream",
     "text": [
      "Enter Number:  10\n"
     ]
    },
    {
     "name": "stdout",
     "output_type": "stream",
     "text": [
      "x is greater than 5\n"
     ]
    }
   ],
   "source": [
    "# 1. if Statement\n",
    "# The if statement is used to test a condition. If the condition is True, the block of code inside the if statement is executed. \n",
    "# If it is False, the block is skipped.\n",
    "\n",
    "x= int(input(\"Enter Number: \"))\n",
    "if x > 5:\n",
    "    print(\"x is greater than 5\")"
   ]
  },
  {
   "cell_type": "code",
   "execution_count": 7,
   "id": "9ee07570-05ed-4f75-ac8b-bc8e9c0342f9",
   "metadata": {},
   "outputs": [
    {
     "name": "stdin",
     "output_type": "stream",
     "text": [
      "Enter Number:  2\n"
     ]
    },
    {
     "name": "stdout",
     "output_type": "stream",
     "text": [
      "x is less than or equal to 5\n"
     ]
    }
   ],
   "source": [
    "# 2. if-else Statement\n",
    "# The else clause can be used with the if statement to execute some code if the condition is False.\n",
    "\n",
    "x= int(input(\"Enter Number: \"))\n",
    "if x > 5:\n",
    "    print(\"x is greater than 5\")\n",
    "else:\n",
    "    print(\"x is less than or equal to 5\")  "
   ]
  },
  {
   "cell_type": "code",
   "execution_count": 8,
   "id": "949621b4-da18-4d33-b745-106b115cdb6e",
   "metadata": {},
   "outputs": [
    {
     "name": "stdin",
     "output_type": "stream",
     "text": [
      "Enter Number:  10\n"
     ]
    },
    {
     "name": "stdout",
     "output_type": "stream",
     "text": [
      "x is equal to 10\n"
     ]
    }
   ],
   "source": [
    "# 3. if-elif-else Statement\n",
    "# If you have multiple conditions to check, you can use the elif (short for \"else if\") statement. \n",
    "# This allows you to test multiple conditions in sequence.\n",
    "\n",
    "x= int(input(\"Enter Number: \"))\n",
    "if x > 10:\n",
    "    print(\"x is greater than 10\")\n",
    "elif x == 10:\n",
    "    print(\"x is equal to 10\")  \n",
    "else:\n",
    "    print(\"x is less than 10\")"
   ]
  },
  {
   "cell_type": "code",
   "execution_count": 9,
   "id": "76891850-2563-413f-bef7-9dfafe047d4f",
   "metadata": {},
   "outputs": [
    {
     "name": "stdin",
     "output_type": "stream",
     "text": [
      "Enter Number:  10\n"
     ]
    },
    {
     "name": "stdout",
     "output_type": "stream",
     "text": [
      "x is greater than 5\n",
      "x is also greater than 8\n"
     ]
    }
   ],
   "source": [
    "# 4. Nested if Statements\n",
    "# You can also nest if statements inside other if statements, which allows for checking conditions in a more hierarchical manner.\n",
    "\n",
    "x= int(input(\"Enter Number: \"))\n",
    "if x > 5:\n",
    "    print(\"x is greater than 5\")  \n",
    "    if x > 8:\n",
    "        print(\"x is also greater than 8\") "
   ]
  },
  {
   "cell_type": "code",
   "execution_count": 12,
   "id": "7681469b-2ff1-4e89-ad99-d2bc3d545637",
   "metadata": {},
   "outputs": [
    {
     "name": "stdin",
     "output_type": "stream",
     "text": [
      "Enter Number:  4\n"
     ]
    },
    {
     "name": "stdout",
     "output_type": "stream",
     "text": [
      "Less than or equal to 5\n"
     ]
    }
   ],
   "source": [
    "# 5. Conditional Expressions (Ternary Operator)\n",
    "# Python also supports a shorter form of an if-else statement known as a ternary operator or conditional expression. \n",
    "# It allows writing a simple if-else statement in a single line.\n",
    "# value_if_true if condition else value_if_false\n",
    "\n",
    "x= int(input(\"Enter Number: \"))\n",
    "result = \"Greater than 5\" if x > 5 else \"Less than or equal to 5\"\n",
    "print(result)  # Output: Greater than 5\n"
   ]
  },
  {
   "cell_type": "code",
   "execution_count": null,
   "id": "966e6bf2-d20f-42cb-aea8-b0baf8d2ad53",
   "metadata": {},
   "outputs": [],
   "source": [
    "# 1. switch Statement: Python doesn’t have a switch statement because its if-elif-else chain and dictionary-based alternatives are sufficient and more Pythonic.\n",
    "#    -> Alternative: Use if-elif-else or dictionaries to simulate switch functionality.\n",
    "\n",
    "# 2. goto Statement: Python does not support goto because it encourages bad coding practices and makes code harder to understand.\n",
    "#    -> Alternative: Use loops, functions, and exception handling to control the flow of execution.\n",
    "\n",
    "# By avoiding switch and goto, Python encourages writing more readable and maintainable code using structured and organized alternatives."
   ]
  }
 ],
 "metadata": {
  "kernelspec": {
   "display_name": "Python 3 (ipykernel)",
   "language": "python",
   "name": "python3"
  },
  "language_info": {
   "codemirror_mode": {
    "name": "ipython",
    "version": 3
   },
   "file_extension": ".py",
   "mimetype": "text/x-python",
   "name": "python",
   "nbconvert_exporter": "python",
   "pygments_lexer": "ipython3",
   "version": "3.12.1"
  }
 },
 "nbformat": 4,
 "nbformat_minor": 5
}

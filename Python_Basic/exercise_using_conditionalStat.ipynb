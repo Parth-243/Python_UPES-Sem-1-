{
 "cells": [
  {
   "cell_type": "code",
   "execution_count": 3,
   "id": "ec22d427-c91a-4b6c-a6c9-dbc9045733ae",
   "metadata": {},
   "outputs": [
    {
     "name": "stdout",
     "output_type": "stream",
     "text": [
      "Name of Products:-\n",
      "1.Shirt\n",
      "2.T-Shirt\n",
      "3.Jeans\n",
      "4.trouser \n"
     ]
    },
    {
     "name": "stdin",
     "output_type": "stream",
     "text": [
      "Enter the name of Product:  Shirt\n",
      "Enter the total quantity:  4\n"
     ]
    },
    {
     "name": "stdout",
     "output_type": "stream",
     "text": [
      "\n",
      "\n",
      "You have Purchase: Shirt\n",
      "Price: $400\n",
      "The Total no. of Quantity: 4\n",
      "The Total Price: $1600\n"
     ]
    }
   ],
   "source": [
    "#imput()= A function that prompts the user to enter data\n",
    "#         Returns the entered data as a string\n",
    "\n",
    "#Creating an shopping card\n",
    "print(\"Name of Products:-\")\n",
    "print('1.Shirt')\n",
    "print('2.T-Shirt')\n",
    "print('3.Jeans')\n",
    "print('4.trouser ')\n",
    "item= input('Enter the name of Product: ')\n",
    "# typecasting the str into int\n",
    "quantity= int(input('Enter the total quantity: ')); \n",
    "\n",
    "if(\"Shirt\"==item):\n",
    "  price=400\n",
    "  total_price= 400*quantity\n",
    "elif(\"T-Shirt\"==item):\n",
    "  price=200\n",
    "  total_price= 200*quantity\n",
    "elif(\"Jeans\"==item):\n",
    "  price=1000\n",
    "  total_price= 1000*quantity\n",
    "elif(\"Trouser\"==item):\n",
    "  price=500\n",
    "  total_price= 500*quantity\n",
    "else:\n",
    "  print(\"Sorry we dont have the Product\")\n",
    "print('\\n')\n",
    "print(f'You have Purchase: {item}')\n",
    "print(f'Price: ${price}')\n",
    "print(f'The Total no. of Quantity: {quantity}')\n",
    "print(f'The Total Price: ${total_price}')\n"
   ]
  },
  {
   "cell_type": "code",
   "execution_count": 5,
   "id": "faac8230-65f7-4448-9d3a-fdc7b577b123",
   "metadata": {},
   "outputs": [
    {
     "name": "stdin",
     "output_type": "stream",
     "text": [
      "Would you like Food? (Y/N) Y\n"
     ]
    },
    {
     "name": "stdout",
     "output_type": "stream",
     "text": [
      "Have some food\n"
     ]
    }
   ],
   "source": [
    "response = input(\"Would you like Food? (Y/N)\")\n",
    "\n",
    "if response == \"y\" or response ==\"Y\":\n",
    "    print(\"Have some food\")\n",
    "elif response == \"n\" or response ==\"N\":\n",
    "    print(\"No food for you\")\n",
    "else:\n",
    "    print(\"Enter the correct answer\")"
   ]
  },
  {
   "cell_type": "code",
   "execution_count": 7,
   "id": "5915a9c6-8513-4b98-bb3e-ff01f4c9fd47",
   "metadata": {},
   "outputs": [
    {
     "name": "stdin",
     "output_type": "stream",
     "text": [
      "(True or False) You Online?  True\n"
     ]
    },
    {
     "name": "stdout",
     "output_type": "stream",
     "text": [
      "<class 'bool'>\n",
      "The user is Online \n"
     ]
    }
   ],
   "source": [
    "online = bool(input(\"(True or False) You Online? \"))\n",
    "if online:\n",
    "    print(\"The user is Online \")\n",
    "else:\n",
    "    print(\"The user is offline \")"
   ]
  },
  {
   "cell_type": "code",
   "execution_count": 8,
   "id": "2513db43-450f-4e08-8e29-c772f9969ea3",
   "metadata": {},
   "outputs": [
    {
     "name": "stdin",
     "output_type": "stream",
     "text": [
      "Enter the first number:  2\n",
      "Enter the second number:  4\n",
      "Enter the operation :  +\n"
     ]
    },
    {
     "name": "stdout",
     "output_type": "stream",
     "text": [
      "The result of 2.0 + 4.0 is: 6.0\n"
     ]
    }
   ],
   "source": [
    "# Simple calculator \n",
    "\n",
    "\n",
    "num1 = float(input(\"Enter the first number: \"))\n",
    "num2 = float(input(\"Enter the second number: \"))\n",
    "\n",
    "operation = input(\"Enter the operation : \")\n",
    "\n",
    "\n",
    "if operation == '+':\n",
    "    result = num1 + num2\n",
    "    print(f\"The result of {num1} + {num2} is: {result}\")\n",
    "\n",
    "elif operation == '-':\n",
    "    result = num1 - num2\n",
    "    print(f\"The result of {num1} - {num2} is: {result}\")\n",
    "\n",
    "elif operation == '*':\n",
    "    result = num1 * num2\n",
    "    print(f\"The result of {num1} * {num2} is: {result}\")\n",
    "\n",
    "elif operation == '/':\n",
    "    if num2 != 0:  \n",
    "        result = num1 / num2\n",
    "        print(f\"The result of {num1} / {num2} is: {result}\")\n",
    "    else:\n",
    "        print(\"Error! Division by zero is not allowed.\")\n",
    "\n",
    "else:\n",
    "    print(\"Invalid operation selected.\")\n"
   ]
  },
  {
   "cell_type": "code",
   "execution_count": 13,
   "id": "d15772b9-9eaa-40f1-a583-d742c8fda070",
   "metadata": {},
   "outputs": [
    {
     "name": "stdin",
     "output_type": "stream",
     "text": [
      "Enter your weight 100\n"
     ]
    },
    {
     "name": "stdout",
     "output_type": "stream",
     "text": [
      "1. Convert Kilograms \n",
      "2. Convert Pounds\n"
     ]
    },
    {
     "name": "stdin",
     "output_type": "stream",
     "text": [
      "Enter your choice (1 or 2):  2\n"
     ]
    },
    {
     "name": "stdout",
     "output_type": "stream",
     "text": [
      "your weight is : 45.35 Kgs\n"
     ]
    }
   ],
   "source": [
    "# Weight Converter Program\n",
    "# Conversion formulas\n",
    "# 1 Kilogram = 2.20462 Pounds\n",
    "# 1 Pound = 0.453592 Kilograms\n",
    "weight = float(input(\"Enter your weight\"))\n",
    "print(\"1. Convert Kilograms \")\n",
    "print(\"2. Convert Pounds\")\n",
    "\n",
    "choice = input(\"Enter your choice (1 or 2): \")\n",
    "\n",
    "if choice == \"1\":\n",
    "    weight*=2.205\n",
    "    choise=\"Lbs\"\n",
    "    \n",
    "elif choice == \"2\":\n",
    "    weight /=2.205\n",
    "    choise=\"Kgs\"\n",
    "else:\n",
    "    print(f\"{choice} was not valid\")\n",
    "\n",
    "print(f\"your weight is : {round(weight,2)} {choise}\")\n"
   ]
  },
  {
   "cell_type": "code",
   "execution_count": null,
   "id": "32775faa-cce6-4494-a003-4ca7dbb2dc8c",
   "metadata": {},
   "outputs": [],
   "source": []
  }
 ],
 "metadata": {
  "kernelspec": {
   "display_name": "Python 3 (ipykernel)",
   "language": "python",
   "name": "python3"
  },
  "language_info": {
   "codemirror_mode": {
    "name": "ipython",
    "version": 3
   },
   "file_extension": ".py",
   "mimetype": "text/x-python",
   "name": "python",
   "nbconvert_exporter": "python",
   "pygments_lexer": "ipython3",
   "version": "3.12.1"
  }
 },
 "nbformat": 4,
 "nbformat_minor": 5
}

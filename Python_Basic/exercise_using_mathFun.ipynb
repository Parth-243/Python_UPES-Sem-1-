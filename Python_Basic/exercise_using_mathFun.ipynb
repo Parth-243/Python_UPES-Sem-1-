{
 "cells": [
  {
   "cell_type": "code",
   "execution_count": 3,
   "id": "e3cee428-cfde-49bd-a380-9b52069e1cb5",
   "metadata": {},
   "outputs": [
    {
     "name": "stdin",
     "output_type": "stream",
     "text": [
      "enter the radius of a circle:  10\n"
     ]
    },
    {
     "name": "stdout",
     "output_type": "stream",
     "text": [
      "The circumference is: 62.83cm\n"
     ]
    }
   ],
   "source": [
    "# finding the circumfrence of a circle\n",
    "# C= 2*pi*r\n",
    "import math\n",
    "radius = float(input(\"enter the radius of a circle: \"))\n",
    "circumference = 2*math.pi*radius\n",
    "print(f\"The circumference is: {round(circumference, 2)}cm\")"
   ]
  },
  {
   "cell_type": "code",
   "execution_count": 7,
   "id": "e66f5c98-909b-430a-b235-53217f7ae776",
   "metadata": {},
   "outputs": [
    {
     "name": "stdin",
     "output_type": "stream",
     "text": [
      "Enter the redius of a circle:  10.5\n"
     ]
    },
    {
     "name": "stdout",
     "output_type": "stream",
     "text": [
      "The are of the circle is: 346.36cm^2\n"
     ]
    }
   ],
   "source": [
    "# Area of Circle\n",
    "# A = pi*r^2\n",
    "import math \n",
    "radius= float(input(\"Enter the redius of a circle: \"))\n",
    "area= math.pi*pow(radius,2)\n",
    "print(f\"The are of the circle is: {round(area,2)}cm^2\")"
   ]
  },
  {
   "cell_type": "code",
   "execution_count": 9,
   "id": "890b91e4-f15d-4f34-9f01-06daf853e1f1",
   "metadata": {},
   "outputs": [
    {
     "name": "stdin",
     "output_type": "stream",
     "text": [
      "Enter the side A:  3\n",
      "Enter the side B:  4\n"
     ]
    },
    {
     "name": "stdout",
     "output_type": "stream",
     "text": [
      "The Hypotenuse of the right triangle is 5.0\n"
     ]
    }
   ],
   "source": [
    "# Hypotenuse of the right triangle\n",
    "# it is use to find the longest side of the trangle and it is always opposite the right angle\n",
    "# c= sqrt(a^2+b^2)\n",
    "\n",
    "import math \n",
    "a= float(input(\"Enter the side A: \"))\n",
    "b= float(input(\"Enter the side B: \"))\n",
    "\n",
    "c= math.sqrt(pow(a,2)+pow(b,2))\n",
    "print(f\"The Hypotenuse of the right triangle is {c}\")"
   ]
  },
  {
   "cell_type": "code",
   "execution_count": null,
   "id": "6a6150c3-1b10-4f2c-82df-fc23107eab1e",
   "metadata": {},
   "outputs": [],
   "source": []
  }
 ],
 "metadata": {
  "kernelspec": {
   "display_name": "Python 3 (ipykernel)",
   "language": "python",
   "name": "python3"
  },
  "language_info": {
   "codemirror_mode": {
    "name": "ipython",
    "version": 3
   },
   "file_extension": ".py",
   "mimetype": "text/x-python",
   "name": "python",
   "nbconvert_exporter": "python",
   "pygments_lexer": "ipython3",
   "version": "3.12.1"
  }
 },
 "nbformat": 4,
 "nbformat_minor": 5
}

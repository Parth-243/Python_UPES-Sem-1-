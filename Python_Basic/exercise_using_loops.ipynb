{
 "cells": [
  {
   "cell_type": "code",
   "execution_count": 6,
   "id": "842cbdfb-b116-4daf-8e7b-e2bd00e337f6",
   "metadata": {},
   "outputs": [
    {
     "name": "stdin",
     "output_type": "stream",
     "text": [
      "Enter the princple amount:  10000\n",
      "Enter the intrest rate:  10\n",
      "Enter the Time in years:  2\n"
     ]
    },
    {
     "name": "stdout",
     "output_type": "stream",
     "text": [
      "10000.0\n",
      "10.0\n",
      "2\n",
      "Balance after 2 years: $12100.00\n"
     ]
    }
   ],
   "source": [
    "# compount intrest calculater\n",
    "# FORMULA-----> A= P(1+r/n)^t\n",
    "# A= final amount\n",
    "# P= initial principal balance\n",
    "# r= interest rate\n",
    "# t= number of time periods elapsed\n",
    "\n",
    "principle = 0 \n",
    "rate = 0\n",
    "time = 0\n",
    "\n",
    "while principle <=0:\n",
    "    principle= float(input(\"Enter the princple amount: \"))\n",
    "    if principle <=0:\n",
    "        print(\"principle can't be less than or equal to Zero\")\n",
    "\n",
    "while rate <=0:\n",
    "    rate= float(input(\"Enter the intrest rate: \"))\n",
    "    if rate <=0:\n",
    "        print(\" intrest rate can't be less than or equal to Zero\")\n",
    "\n",
    "while time <=0:\n",
    "    time= int(input(\"Enter the Time in years: \"))\n",
    "    if rate <=0:\n",
    "        print(\" Time can't be less than or equal to Zero\")\n",
    "\n",
    "print(principle)\n",
    "print(rate)\n",
    "print(time)\n",
    "\n",
    "total= principle * pow((1 + rate / 100),time)\n",
    "\n",
    "print(f\"Balance after {time} years: ${total:.2f}\")"
   ]
  },
  {
   "cell_type": "code",
   "execution_count": 23,
   "id": "ef72a3b9-403f-4933-9ed6-a0c206b32496",
   "metadata": {},
   "outputs": [
    {
     "name": "stdout",
     "output_type": "stream",
     "text": [
      "5\n",
      "4\n",
      "3\n",
      "2\n",
      "1\n"
     ]
    }
   ],
   "source": [
    "# using time.sleep() \n",
    "import time\n",
    "for i in range(5,0, -1 ):\n",
    "    print(i)\n",
    "    time.sleep(1)\n"
   ]
  },
  {
   "cell_type": "code",
   "execution_count": 30,
   "id": "53630fc3-8a1c-4e4e-a6ee-f75f03effc6c",
   "metadata": {},
   "outputs": [
    {
     "name": "stdin",
     "output_type": "stream",
     "text": [
      "Enter time in seconds: 10\n"
     ]
    },
    {
     "name": "stdout",
     "output_type": "stream",
     "text": [
      "00:00:10\n",
      "00:00:09\n",
      "00:00:08\n",
      "00:00:07\n",
      "00:00:06\n",
      "00:00:05\n",
      "00:00:04\n",
      "00:00:03\n",
      "00:00:02\n",
      "00:00:01\n"
     ]
    }
   ],
   "source": [
    "# create a stop watch\n",
    "import time\n",
    "sec = int(input(\"Enter time in seconds:\"))\n",
    "\n",
    "for x in range(sec, 0, -1):\n",
    "    sec = x%60\n",
    "    min = int(x/60) % 60\n",
    "    hou = int(x/3600)\n",
    "    print(f\"{hou:02}:{min:02}:{sec:02}\")\n",
    "    time.sleep(1)"
   ]
  },
  {
   "cell_type": "code",
   "execution_count": null,
   "id": "7ccebdf4-7fe6-40b6-9f53-fdedb6e67dfd",
   "metadata": {},
   "outputs": [],
   "source": [
    " "
   ]
  }
 ],
 "metadata": {
  "kernelspec": {
   "display_name": "Python 3 (ipykernel)",
   "language": "python",
   "name": "python3"
  },
  "language_info": {
   "codemirror_mode": {
    "name": "ipython",
    "version": 3
   },
   "file_extension": ".py",
   "mimetype": "text/x-python",
   "name": "python",
   "nbconvert_exporter": "python",
   "pygments_lexer": "ipython3",
   "version": "3.12.1"
  }
 },
 "nbformat": 4,
 "nbformat_minor": 5
}

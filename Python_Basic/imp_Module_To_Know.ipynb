{
 "cells": [
  {
   "cell_type": "code",
   "execution_count": null,
   "id": "0c9ee693-6fb9-4d7d-8163-57553d5a32d6",
   "metadata": {},
   "outputs": [],
   "source": [
    "# for web developement-----------------\n",
    "#   1. requests module (for database connection)\n",
    "#   2. Django (it is a web fram work for Python)\n",
    "#   3. Flask  (it is a web fram work for Python. much easer then Django)\n",
    "#   4. Twisted (for onlie game developement)\n",
    "#   5. beautifulsoup4 (for web scraping )\n",
    "#   6. selenium (for automation the websites)\n",
    "\n",
    "# for Data Science-----------------------\n",
    "#   1. numpy (it provide various mathematical operations )\n",
    "#   2. pandas ( for reading and working with data frams and data in general )\n",
    "#   3. matplotlib ( for data visualizations)\n",
    "#   4. nltk (it use for data processing or text processing)\n",
    "#   5. opencv-python ( main focus is on image and video data processing) \n",
    "\n",
    "# for Machine Learning AI-----------------------\n",
    "#   1. tensorflow (we can do neural networks , standard machine learning algo etc.)\n",
    "#   2. Keras (same as tensorflow but for bignner it is best)\n",
    "#   3. Pytorch ()\n",
    "#   4. scikit-learn ()\n",
    "\n",
    "\n",
    "# for Graphical user interface----------------------\n",
    "#   1. kivy  \n",
    "#   2. PyQt5  \n",
    "#   3. tKinter \n",
    "#   4. pygame\n",
    "#   5. "
   ]
  }
 ],
 "metadata": {
  "kernelspec": {
   "display_name": "Python 3 (ipykernel)",
   "language": "python",
   "name": "python3"
  },
  "language_info": {
   "codemirror_mode": {
    "name": "ipython",
    "version": 3
   },
   "file_extension": ".py",
   "mimetype": "text/x-python",
   "name": "python",
   "nbconvert_exporter": "python",
   "pygments_lexer": "ipython3",
   "version": "3.12.1"
  }
 },
 "nbformat": 4,
 "nbformat_minor": 5
}

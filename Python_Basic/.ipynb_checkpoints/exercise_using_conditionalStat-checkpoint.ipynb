{
 "cells": [
  {
   "cell_type": "code",
   "execution_count": 3,
   "id": "ec22d427-c91a-4b6c-a6c9-dbc9045733ae",
   "metadata": {},
   "outputs": [
    {
     "name": "stdout",
     "output_type": "stream",
     "text": [
      "Name of Products:-\n",
      "1.Shirt\n",
      "2.T-Shirt\n",
      "3.Jeans\n",
      "4.trouser \n"
     ]
    },
    {
     "name": "stdin",
     "output_type": "stream",
     "text": [
      "Enter the name of Product:  Shirt\n",
      "Enter the total quantity:  4\n"
     ]
    },
    {
     "name": "stdout",
     "output_type": "stream",
     "text": [
      "\n",
      "\n",
      "You have Purchase: Shirt\n",
      "Price: $400\n",
      "The Total no. of Quantity: 4\n",
      "The Total Price: $1600\n"
     ]
    }
   ],
   "source": [
    "#imput()= A function that prompts the user to enter data\n",
    "#         Returns the entered data as a string\n",
    "\n",
    "#Creating an shopping card\n",
    "print(\"Name of Products:-\")\n",
    "print('1.Shirt')\n",
    "print('2.T-Shirt')\n",
    "print('3.Jeans')\n",
    "print('4.trouser ')\n",
    "item= input('Enter the name of Product: ')\n",
    "# typecasting the str into int\n",
    "quantity= int(input('Enter the total quantity: ')); \n",
    "\n",
    "if(\"Shirt\"==item):\n",
    "  price=400\n",
    "  total_price= 400*quantity\n",
    "elif(\"T-Shirt\"==item):\n",
    "  price=200\n",
    "  total_price= 200*quantity\n",
    "elif(\"Jeans\"==item):\n",
    "  price=1000\n",
    "  total_price= 1000*quantity\n",
    "elif(\"Trouser\"==item):\n",
    "  price=500\n",
    "  total_price= 500*quantity\n",
    "else:\n",
    "  print(\"Sorry we dont have the Product\")\n",
    "print('\\n')\n",
    "print(f'You have Purchase: {item}')\n",
    "print(f'Price: ${price}')\n",
    "print(f'The Total no. of Quantity: {quantity}')\n",
    "print(f'The Total Price: ${total_price}')\n"
   ]
  },
  {
   "cell_type": "code",
   "execution_count": null,
   "id": "faac8230-65f7-4448-9d3a-fdc7b577b123",
   "metadata": {},
   "outputs": [],
   "source": [
    "response = input(\"Would you like Food? (Y/N)\")\n",
    "\n",
    "if response == \"y\" or response ==\"Y\":\n",
    "    print(\"Good boy\")\n",
    "elif response == \"n\" or response ==\"N\":\n",
    "    print(\"Your are bad boy\")\n",
    "else:\n",
    "    print(\"Enter the correct answer\")"
   ]
  }
 ],
 "metadata": {
  "kernelspec": {
   "display_name": "Python 3 (ipykernel)",
   "language": "python",
   "name": "python3"
  },
  "language_info": {
   "codemirror_mode": {
    "name": "ipython",
    "version": 3
   },
   "file_extension": ".py",
   "mimetype": "text/x-python",
   "name": "python",
   "nbconvert_exporter": "python",
   "pygments_lexer": "ipython3",
   "version": "3.12.1"
  }
 },
 "nbformat": 4,
 "nbformat_minor": 5
}

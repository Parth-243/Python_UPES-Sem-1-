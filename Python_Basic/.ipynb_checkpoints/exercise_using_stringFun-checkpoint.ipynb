{
 "cells": [
  {
   "cell_type": "code",
   "execution_count": 18,
   "id": "15ee744d-d66e-4e2a-be69-71097b10d516",
   "metadata": {},
   "outputs": [
    {
     "name": "stdin",
     "output_type": "stream",
     "text": [
      "Enter Name:  Parth\n"
     ]
    },
    {
     "name": "stdout",
     "output_type": "stream",
     "text": [
      "Welcome Parth\n"
     ]
    }
   ],
   "source": [
    "# validate user input exercise\n",
    "# 1. Username is no more than 12 characters\n",
    "# 2. Username must not contain spaces\n",
    "# 3. Username must not contain digits\n",
    "\n",
    "name= input(\"Enter Name: \")\n",
    "\n",
    "if len(name)> 12:\n",
    "    print(\"Your name can't be more than 12 characters\")\n",
    "# elif name.count(\" \")> 0 :\n",
    "#     print(\"The {} contain total {} spaces\".format(name, name.count(\" \")))\n",
    "elif not name.find(\" \") == -1:\n",
    "    print(\"Your name can't contain spaces\")\n",
    "elif not name.isalpha():\n",
    "    print(\"Your name can't contain numbers\")\n",
    "else:\n",
    "    print(f\"Welcome {name}\")"
   ]
  },
  {
   "cell_type": "code",
   "execution_count": 23,
   "id": "4278acba-a03d-40d2-ad08-e9922a3279e4",
   "metadata": {},
   "outputs": [
    {
     "name": "stdout",
     "output_type": "stream",
     "text": [
      "Your credit number is: XXXX-XXXX-XXXX-3456\n",
      "Your credit number is: 1234-5678-XXXX-XXXX\n",
      "Your credit number is: 6543-2109-8765-4321\n"
     ]
    }
   ],
   "source": [
    "# Extrect the last 4 digit of an credit number\n",
    "credit_num= \"1234-5678-9012-3456\"\n",
    "last_digits = credit_num[-4:]\n",
    "first_two_digits= credit_num[:9]\n",
    "reverse_credit_num = credit_num[::-1]\n",
    "print(f\"Your credit number is: XXXX-XXXX-XXXX-{last_digits}\")\n",
    "print(f\"Your credit number is: {first_two_digits}-XXXX-XXXX\")\n",
    "print(f\"Your credit number is: {reverse_credit_num}\")"
   ]
  },
  {
   "cell_type": "code",
   "execution_count": null,
   "id": "c2a9e4ad-92a7-4b85-9493-904a0da80997",
   "metadata": {},
   "outputs": [],
   "source": [
    " "
   ]
  }
 ],
 "metadata": {
  "kernelspec": {
   "display_name": "Python 3 (ipykernel)",
   "language": "python",
   "name": "python3"
  },
  "language_info": {
   "codemirror_mode": {
    "name": "ipython",
    "version": 3
   },
   "file_extension": ".py",
   "mimetype": "text/x-python",
   "name": "python",
   "nbconvert_exporter": "python",
   "pygments_lexer": "ipython3",
   "version": "3.12.1"
  }
 },
 "nbformat": 4,
 "nbformat_minor": 5
}

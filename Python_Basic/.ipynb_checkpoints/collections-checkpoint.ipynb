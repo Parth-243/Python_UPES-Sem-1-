{
 "cells": [
  {
   "cell_type": "code",
   "execution_count": 46,
   "id": "419f9a87-07c6-4cac-8ca2-3cc2e360f98c",
   "metadata": {
    "scrolled": true
   },
   "outputs": [
    {
     "name": "stdout",
     "output_type": "stream",
     "text": [
      "[1, 2, 3, 4, 5]\n",
      "[1, 'apple', 3.14, True]\n",
      "The sum of [1, 2, 3, 4, 5] is 15\n",
      "A apple is good for health\n",
      "['A', 'apple', 'is', 'good', 'for', 'health']\n",
      "-----------------------------------------------\n",
      "The orignal String is: [1, 2, 3, 4, 5]\n",
      "1\n",
      "[1, 10, 3, 4, 5]\n",
      "[1, 10, 3, 4, 5, 6]\n",
      "[1, 3, 4, 5, 6]\n",
      "[1, 3, 11, 4, 5, 6]\n",
      "[1, 3, 4, 5, 6, 11]\n",
      "[11, 6, 5, 4, 3, 1]\n",
      "4\n",
      "0\n"
     ]
    }
   ],
   "source": [
    "# Python provides several built-in collection types to store and organize data. \n",
    "# These collections are versatile, allowing you to work with different types of data structures efficiently. \n",
    "# Here’s an overview of the most commonly used collections in Python, along with their characteristics and usage:\n",
    "\n",
    "\n",
    "# 1. List (list)\n",
    "# A list is an ordered, mutable (changeable) collection that allows duplicates. It’s the most commonly used collection type in Python.\n",
    "# Key Features:\n",
    "    # 1. Ordered: Items are stored in a specific order and can be accessed by their index.\n",
    "    # 2. Mutable: You can modify (add, update, or remove) items after the list is created.\n",
    "    # 3. Allows duplicates: Lists can contain the same value more than once.\n",
    "my_list = [1, 2, 3, 4, 5]\n",
    "mixed_list = [1, \"apple\", 3.14, True]\n",
    "mixed_list1 = [\"A\", \"apple\", \"is\", \"good\", \"for\", \"health\"]\n",
    "print(my_list)\n",
    "print(mixed_list)\n",
    "print(f\"The sum of {my_list} is {sum(my_list)}\")\n",
    "print(\" \".join(mixed_list1))\n",
    "mixed_list2 = \" \".join(mixed_list1)\n",
    "print(mixed_list2.split(\" \"))\n",
    "print(\"-----------------------------------------------\")\n",
    "# using different  Operations:\n",
    "print(f\"The orignal String is: {my_list}\")\n",
    "# Accessing elements\n",
    "print(my_list[0])  # Output: 1\n",
    "\n",
    "# Modifying an item\n",
    "my_list[1] = 10  # Now the list is [1, 10, 3, 4, 5]\n",
    "print(my_list)\n",
    "\n",
    "# Adding elements\n",
    "my_list.append(6)  # Now the list is [1, 10, 3, 4, 5, 6]\n",
    "print(my_list)\n",
    "\n",
    "# Removing an element\n",
    "my_list.remove(10)  # Now the list is [1, 3, 4, 5, 6]\n",
    "print(my_list)\n",
    "\n",
    "# Insert element in desired index\n",
    "my_list.insert(2,11)\n",
    "print(my_list)\n",
    "\n",
    "# short function is use to short an element in order \n",
    "my_list.sort()\n",
    "print(my_list)\n",
    "\n",
    "# stor reversed element \n",
    "my_list.reverse()\n",
    "print(my_list)\n",
    "\n",
    "#To clear the list \n",
    "# my_list.clear()\n",
    "# print(my_list)\n",
    "\n",
    "# print the index of element in list\n",
    "print(my_list.index(3))\n",
    "\n",
    "#to count \n",
    "print(my_list.count(2))\n"
   ]
  },
  {
   "cell_type": "code",
   "execution_count": 11,
   "id": "7155c864-54ea-4479-a60d-a10951caa6dc",
   "metadata": {},
   "outputs": [
    {
     "name": "stdout",
     "output_type": "stream",
     "text": [
      "[[1, 2, 3], [4, 5, 6], [7, 8, 9]]\n",
      "1 2 3 \n",
      "\n",
      "4 5 6 \n",
      "\n",
      "7 8 9 \n",
      "\n"
     ]
    }
   ],
   "source": [
    "# 2D list\n",
    "# In Python, a 2D list (or two-dimensional list) is essentially a list of lists. \n",
    "# It allows you to represent data in a grid-like structure, similar to a table with rows and columns. \n",
    "# Each element in a 2D list is itself a list, and each of these inner lists can hold multiple values.\n",
    "\n",
    "# Here’s an example of a 2D list in Python:\n",
    "matrix = [\n",
    "    [1, 2, 3],\n",
    "    [4, 5, 6],\n",
    "    [7, 8, 9]\n",
    "]\n",
    "print(matrix)\n",
    "\n",
    "# Accessing elements in a 2D list:\n",
    "# Access the element at row 1, column 2\n",
    "element = matrix[0][1]  # This will give you the value 2\n",
    "# print(element) \n",
    "\n",
    "for row in matrix:\n",
    "    for element in row:\n",
    "        print(element,end=\" \")\n",
    "    print(\"\\n\")    "
   ]
  },
  {
   "cell_type": "code",
   "execution_count": 39,
   "id": "e0cba846-eb14-48ea-9ac3-6777166efd3d",
   "metadata": {},
   "outputs": [
    {
     "name": "stdout",
     "output_type": "stream",
     "text": [
      "(1, 2, 3, 4, 5)\n",
      "1\n",
      "(2, 3)\n"
     ]
    }
   ],
   "source": [
    "# 2. Tuple (tuple)\n",
    "\n",
    "# A tuple is similar to a list, but it is immutable, meaning it cannot be modified after it is created.\n",
    "# Key Features:\n",
    "    # 1. Ordered: Items are stored in a specific order and can be accessed by their index.\n",
    "    # 2. Immutable: Once created, elements cannot be changed, added, or removed.\n",
    "    # 3. Allows duplicates: Tuples can contain repeated values.\n",
    "\n",
    "my_tuple = (1, 2, 3, 4, 5)\n",
    "print(my_tuple)\n",
    "\n",
    "# using different  Operations:\n",
    "# Accessing elements\n",
    "print(my_tuple[0])  # Output: 1\n",
    "\n",
    "# Slicing\n",
    "print(my_tuple[1:3])  # Output: (2, 3)\n",
    "\n",
    "# Attempting to modify the tuple will raise an error:\n",
    "# my_tuple[0] = 10  # Error: TypeError: 'tuple' object does not support item assignment\n"
   ]
  },
  {
   "cell_type": "code",
   "execution_count": 54,
   "id": "28183a7e-6f77-44e0-bd12-02e10e233c8c",
   "metadata": {},
   "outputs": [
    {
     "name": "stdout",
     "output_type": "stream",
     "text": [
      "{1, 2, 3, 4, 5}\n",
      "{'Banana', 'Coconut', 'Orange', 'apple'}\n",
      "{1, 2, 3, 4, 5}\n",
      "{3}\n"
     ]
    }
   ],
   "source": [
    "# 3. Set (set)\n",
    "\n",
    "# A set is an unordered collection of unique elements. Sets are commonly used to eliminate duplicate values and perform mathematical operations like union and intersection.\n",
    "# Key Features:\n",
    "    # 1. Unordered: The items have no specific order, and thus, they cannot be accessed via indexing.\n",
    "    # 2. Mutable: You can add or remove elements, but only unique values are stored.\n",
    "    # 3. No duplicates: Sets automatically remove duplicate elements.\n",
    "\n",
    "\n",
    "my_set = {1, 2, 3, 3, 4, 5}\n",
    "fruit_set={\"apple\", \"Banana\", \"Banana\", \"Coconut\", \"Orange\"}\n",
    "print(my_set)\n",
    "print(fruit_set)\n",
    "\n",
    "# using different  Operations:\n",
    "# Adding an element\n",
    "my_set.add(6)  # Now the set is {1, 2, 3, 4, 5, 6}\n",
    "\n",
    "# Removing an element\n",
    "my_set.remove(2)  # Now the set is {1, 3, 4, 5, 6}\n",
    "\n",
    "# Set operations (e.g., union, intersection)\n",
    "set1 = {1, 2, 3}\n",
    "set2 = {3, 4, 5}\n",
    "print(set1.union(set2))  # Output: {1, 2, 3, 4, 5}\n",
    "print(set1.intersection(set2))  # Output: {3}\n"
   ]
  },
  {
   "cell_type": "code",
   "execution_count": 30,
   "id": "23e143c8-bc51-4503-a509-ab7acb692798",
   "metadata": {},
   "outputs": [
    {
     "name": "stdout",
     "output_type": "stream",
     "text": [
      "{'name': 'Parth', 'age': 22, 'city': 'Udaipur'}\n",
      "Parth\n",
      "{'name': 'Parth', 'age': 26, 'email': 'alice@example.com'}\n"
     ]
    }
   ],
   "source": [
    "# 4. Dictionary (dict)\n",
    "\n",
    "# A dictionary is an unordered, mutable collection of key-value pairs. Each key must be unique, but the values can be duplicated.\n",
    "# Key Features:\n",
    "    # 1. Key-value pairs: Each item is stored as a pair of a key and its corresponding value.\n",
    "    # 2. Mutable: You can add, modify, or remove key-value pairs.\n",
    "    # 3. No duplicate keys: Each key in a dictionary must be unique.\n",
    "my_dict ={\n",
    "    \"name\": \"Parth\",\n",
    "    \"age\": 22,\n",
    "    \"city\": \"Udaipur\"\n",
    "}\n",
    "print(my_dict)\n",
    "\n",
    "# using different  Operations:\n",
    "# Accessing values by key\n",
    "print(my_dict[\"name\"])  # Output: Alice\n",
    "\n",
    "# Adding a new key-value pair\n",
    "my_dict[\"email\"] = \"alice@example.com\"  # Adds a new key-value pair\n",
    "\n",
    "# Modifying an existing value\n",
    "my_dict[\"age\"] = 26  # Updates the value associated with the key 'age'\n",
    "\n",
    "# Removing a key-value pair\n",
    "del my_dict[\"city\"]  # Removes the key 'city'\n",
    "print(my_dict)"
   ]
  },
  {
   "cell_type": "code",
   "execution_count": null,
   "id": "123850cc-20d5-4811-97ff-2a04bfac4dec",
   "metadata": {},
   "outputs": [],
   "source": [
    "#Collection Type\tMutable?\tOrdered?\t         Duplicates Allowed?\t      Description\n",
    "#List\t              Yes\t      Yes\t                      Yes\t                 Ordered, changeable, allows duplicate elements.\n",
    "#Tuple\t              No\t      Yes\t                      Yes\t                 Ordered, unchangeable, allows duplicate elements.\n",
    "#Set\t             Yes\t      No\t                      No\t                 Unordered, changeable, does not allow duplicates.\n",
    "#Dictionary\t         Yes\t      No (Yes from 3.7)\t          No for keys            Key-value pairs, changeable, no duplicate keys."
   ]
  },
  {
   "cell_type": "markdown",
   "id": "81e4a975",
   "metadata": {},
   "source": []
  }
 ],
 "metadata": {
  "kernelspec": {
   "display_name": "Python 3 (ipykernel)",
   "language": "python",
   "name": "python3"
  },
  "language_info": {
   "codemirror_mode": {
    "name": "ipython",
    "version": 3
   },
   "file_extension": ".py",
   "mimetype": "text/x-python",
   "name": "python",
   "nbconvert_exporter": "python",
   "pygments_lexer": "ipython3",
   "version": "3.12.1"
  }
 },
 "nbformat": 4,
 "nbformat_minor": 5
}

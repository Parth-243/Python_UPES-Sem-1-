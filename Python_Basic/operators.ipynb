{
 "cells": [
  {
   "cell_type": "code",
   "execution_count": 9,
   "metadata": {},
   "outputs": [
    {
     "name": "stdout",
     "output_type": "stream",
     "text": [
      "5 + 2 = 7 \n",
      "5 - 2 = 3 \n",
      "5 * 2 = 10 \n",
      "5 / 2 = 2.5 \n",
      "5 // 2 = 2 \n",
      "5 % 2 = 1 \n",
      "5 ** 2 = 25 \n"
     ]
    }
   ],
   "source": [
    "# Different types of Operaters in Python------------------------->\n",
    "\n",
    "#1. Arithmetic Operators\n",
    "# These are used to perform mathematical operations such as addition, subtraction, multiplication, etc.\n",
    "a=5\n",
    "b=2\n",
    "print(f\"{a} + {b} = {a+b} \") # aAddition\n",
    "print(f\"{a} - {b} = {a-b} \") #\tSubtraction\n",
    "print(f\"{a} * {b} = {a*b} \") # Multiplication\n",
    "print(f\"{a} / {b} = {a/b} \") # Division (float result)\n",
    "print(f\"{a} // {b} = {a//b} \") # Floor Division (integer)= it always returns an int value\n",
    "print(f\"{a} % {b} = {a%b} \") # Modulus (remainder)\n",
    "print(f\"{a} ** {b} = {a**b} \") # Exponentiation (power)\n",
    "\n"
   ]
  },
  {
   "cell_type": "code",
   "execution_count": 10,
   "metadata": {},
   "outputs": [
    {
     "name": "stdout",
     "output_type": "stream",
     "text": [
      "if 20 == 20 then it is True\n",
      "if 20 != 20 then it is False\n",
      "if 20 > 20 then it is False\n",
      "if 20 < 20 then it is False\n",
      "if 20 >= 20 then it is True\n",
      "if 20 <= 20 then it is True\n"
     ]
    }
   ],
   "source": [
    "# 2. Comparison (Relational) Operators\n",
    "# These are used to compare two values, and the result is either True or False.\n",
    "\n",
    "a= 20\n",
    "c= 20\n",
    "\n",
    "print(f\"if {a} == {c} then it is {a==c}\") # Equal to\n",
    "print(f\"if {a} != {c} then it is {a!=c}\") # Not Equal to\n",
    "print(f\"if {a} > {c} then it is {a>c}\") # Greater than \n",
    "print(f\"if {a} < {c} then it is {a<c}\") # Less then\n",
    "print(f\"if {a} >= {c} then it is {a>=c}\") # Greater than or equal to\n",
    "print(f\"if {a} <= {c} then it is {a<=c}\") # Less than or equal to"
   ]
  },
  {
   "cell_type": "code",
   "execution_count": 11,
   "metadata": {},
   "outputs": [
    {
     "name": "stdout",
     "output_type": "stream",
     "text": [
      "a = 5\n",
      "a + 1 =  6\n",
      "a - 1 = 5\n",
      "a * 2 = 10\n",
      "a / 2 = 5.0\n",
      "a // 2 2.0\n",
      "a % 2 0.0\n",
      "a ** 2 0.0\n"
     ]
    }
   ],
   "source": [
    "# 3. Assignment Operators\n",
    "# These are used to assign values to variables.\n",
    "a=5 #  Assigns value to a variable\n",
    "print(f\"a = {a}\")\n",
    "a+=1 # \tAdd and assign\n",
    "print(f\"a + 1 =  {a}\")\n",
    "a-=1 # Subtract and assign\n",
    "print(f\"a - 1 = {a}\")\n",
    "a*=2 # Multiply and assign\n",
    "print(f\"a * 2 = {a}\")\n",
    "a/=2 # Divide and assign (float result)\n",
    "print(f\"a / 2 = {a}\")\n",
    "a//=2 # Floor divide and assign\n",
    "print(f\"a // 2 {a}\")\n",
    "a%=2 # Modulus and assign\n",
    "print(f\"a % 2 {a}\")\n",
    "a**=2 # Exponentiation and assign\n",
    "print(f\"a ** 2 {a}\")\n",
    "\n"
   ]
  },
  {
   "cell_type": "code",
   "execution_count": 20,
   "metadata": {},
   "outputs": [
    {
     "name": "stdout",
     "output_type": "stream",
     "text": [
      "The 5 & 3 = 1\n",
      "5 OR 3 = 7 \n",
      "5 ^ 3 = 6 \n",
      "~5 = -7 \n",
      "5 << 1 = 10 \n",
      "5 >> 1 = 2 \n"
     ]
    }
   ],
   "source": [
    "# 5. Bitwise Operators\n",
    "# These are used to perform bit-level operations.\n",
    "\n",
    "# 101 AND 011 = 001\n",
    "print(f\"The 5 & 3 = {5&3}\") # AND\n",
    "# 101 OR 011 = 111\n",
    "print (f\"5 OR 3 = {5|3} \") # OR\n",
    "# 101 XOR 011 = 110\n",
    "print (f\"5 ^ 3 = {5^3} \") # XOR (Exclusive OR)\n",
    "# 00000101 NOT = 11111010\n",
    "print (f\"~5 = {~6} \") # NOT (Bitwise negation)\n",
    "# 00000101 Shift Left = 00001010\n",
    "print (f\"5 << 1 = {5 << 1} \") # Left shift\n",
    "# 00000101 Shift Right = 0000010\n",
    "print (f\"5 >> 1 = {5 >> 1 } \") # Right shift\n",
    "\n"
   ]
  },
  {
   "cell_type": "code",
   "execution_count": 23,
   "metadata": {},
   "outputs": [
    {
     "name": "stdout",
     "output_type": "stream",
     "text": [
      "Is Letter A is there in word Apple: True\n",
      "Is Letter A is there in word Apple: False\n"
     ]
    }
   ],
   "source": [
    "# 6. Membership Operators\n",
    "# These are used to test if a value is a member of a sequence (e.g., a list, tuple, or string)\n",
    "letter= 'A'\n",
    "word= \"Apple\"\n",
    "# Returns True if a value is in a sequence\n",
    "print(f\"Is Letter {letter} is there in word {word}: {letter in word}\")\n",
    "# Returns True if a value is not in a sequence\n",
    "print(f\"Is Letter {letter} is there in word {word}: {letter not in word}\")"
   ]
  },
  {
   "cell_type": "code",
   "execution_count": 31,
   "metadata": {},
   "outputs": [
    {
     "name": "stdout",
     "output_type": "stream",
     "text": [
      "True\n",
      "False\n",
      "-----------------\n",
      "False\n",
      "True\n"
     ]
    }
   ],
   "source": [
    "# 7. Identity Operators\n",
    "# These are used to compare the memory location of two objects (whether they refer to the same object).\n",
    "a=2\n",
    "b=2\n",
    "print(a is b)\n",
    "print(a is not b)\n",
    "print(\"-----------------\")\n",
    "a=2\n",
    "b='2'\n",
    "print(a is b)\n",
    "print(a is not b)"
   ]
  },
  {
   "cell_type": "code",
   "execution_count": 33,
   "metadata": {},
   "outputs": [
    {
     "name": "stdout",
     "output_type": "stream",
     "text": [
      "Odd\n"
     ]
    }
   ],
   "source": [
    "# 8. Special Operators (Ternary / Conditional Operator)\n",
    "# You can also use a ternary operator to return a value based on a condition.\n",
    "x=3\n",
    "result = \"Even\" if x % 2 == 0 else \"Odd\"\n",
    "print(result)"
   ]
  }
 ],
 "metadata": {
  "kernelspec": {
   "display_name": "Python 3",
   "language": "python",
   "name": "python3"
  },
  "language_info": {
   "codemirror_mode": {
    "name": "ipython",
    "version": 3
   },
   "file_extension": ".py",
   "mimetype": "text/x-python",
   "name": "python",
   "nbconvert_exporter": "python",
   "pygments_lexer": "ipython3",
   "version": "3.12.1"
  }
 },
 "nbformat": 4,
 "nbformat_minor": 2
}

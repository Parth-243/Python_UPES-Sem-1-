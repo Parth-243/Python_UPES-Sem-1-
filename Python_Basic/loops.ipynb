{
 "cells": [
  {
   "cell_type": "code",
   "execution_count": 8,
   "id": "249b518f-6767-4900-b9c0-33a4537fdc9a",
   "metadata": {},
   "outputs": [
    {
     "name": "stdout",
     "output_type": "stream",
     "text": [
      "apple\n",
      "banana\n",
      "cherry\n",
      "----------------------------\n",
      "0\n",
      "1\n",
      "2\n",
      "3\n",
      "4\n",
      "----------------------------\n",
      "2\n",
      "4\n",
      "6\n",
      "8\n"
     ]
    }
   ],
   "source": [
    "# Loops in Python\n",
    "# In Python, loops allow you to execute a block of code repeatedly, either a specific number of times or while a certain condition is met. Python supports two main types of loops:\n",
    "\n",
    "# 1. for loop: Iterates over a sequence (e.g., list, tuple, string, or range) and executes the block of code for each element in that sequence.\n",
    "# 2. while loop: Repeatedly executes a block of code while a condition remains True.\n",
    "\n",
    "# 1. for Loop\n",
    "#The for loop in Python is primarily used to iterate over elements of a collection (like a list, tuple, or string) \n",
    "#or to repeat a block of code a certain number of times using the range() function.\n",
    "\n",
    "fruits = [\"apple\", \"banana\", \"cherry\"]\n",
    "for fruit in fruits: # variable in sequence\n",
    "    print(fruit)\n",
    "print(\"----------------------------\")\n",
    "\n",
    "# Using range() Function\n",
    "for i in range(5):  # i takes values from 0 to 4\n",
    "    print(i)\n",
    "print(\"----------------------------\")\n",
    "\n",
    "# Using range(start, stop, step)\n",
    "for i in range(2, 10, 2):  # i takes values 2, 4, 6, 8 (step is 2)\n",
    "    print(i)"
   ]
  },
  {
   "cell_type": "code",
   "execution_count": 9,
   "id": "e52cbd24-9b99-4672-a0c5-af6e66787523",
   "metadata": {},
   "outputs": [
    {
     "name": "stdout",
     "output_type": "stream",
     "text": [
      "1\n",
      "2\n",
      "3\n",
      "4\n",
      "5\n"
     ]
    }
   ],
   "source": [
    "# 2. while Loop\n",
    "# The while loop continues executing the block of code as long as the specified condition evaluates to True. \n",
    "# It checks the condition before each iteration, and if it becomes False, the loop stops.\n",
    "\n",
    "i = 1\n",
    "while i <= 5:\n",
    "    print(i)\n",
    "    i += 1  # Increment i\n"
   ]
  },
  {
   "cell_type": "code",
   "execution_count": 10,
   "id": "9b5a67a5-ea07-491c-89fa-a0c24049f6fa",
   "metadata": {},
   "outputs": [
    {
     "name": "stdout",
     "output_type": "stream",
     "text": [
      "0\n",
      "1\n",
      "2\n",
      "3\n",
      "4\n",
      "---------------------------\n",
      "1\n",
      "3\n",
      "5\n",
      "7\n",
      "9\n",
      "---------------------------\n",
      "0\n",
      "1\n",
      "2\n",
      "3\n",
      "4\n"
     ]
    }
   ],
   "source": [
    "# Loop Control Statements\n",
    "\n",
    "# Python provides special statements to control the flow of loops:\n",
    "    # 1. break: Exits the loop prematurely when a certain condition is met.\n",
    "    # 2. continue: Skips the rest of the current iteration and moves to the next iteration.\n",
    "    # 3. pass: A placeholder for future code. It does nothing when executed.\n",
    "\n",
    "\n",
    "# 1. break Statement\n",
    "# The break statement is used to exit the loop when a certain condition is met.\n",
    "for i in range(10):\n",
    "    if i == 5:\n",
    "        break  # Exit the loop when i is 5\n",
    "    print(i)\n",
    "print(\"---------------------------\")\n",
    "\n",
    "# 2. continue Statemen\n",
    "# The continue statement skips the rest of the current iteration and proceeds with the next iteration.\n",
    "for i in range(10):\n",
    "    if i % 2 == 0:  # Skip even numbers\n",
    "        continue\n",
    "    print(i)\n",
    "print(\"---------------------------\")\n",
    "\n",
    "\n",
    "# 3. pass Statement\n",
    "# The pass statement does nothing and is used as a placeholder where code will be added later.\n",
    "for i in range(5):\n",
    "    if i == 3:\n",
    "        pass  # Placeholder, do nothing for now\n",
    "    print(i)"
   ]
  },
  {
   "cell_type": "code",
   "execution_count": null,
   "id": "22b74c75-0d25-4bb2-887e-c1386d51cd7a",
   "metadata": {},
   "outputs": [],
   "source": []
  }
 ],
 "metadata": {
  "kernelspec": {
   "display_name": "Python 3 (ipykernel)",
   "language": "python",
   "name": "python3"
  },
  "language_info": {
   "codemirror_mode": {
    "name": "ipython",
    "version": 3
   },
   "file_extension": ".py",
   "mimetype": "text/x-python",
   "name": "python",
   "nbconvert_exporter": "python",
   "pygments_lexer": "ipython3",
   "version": "3.12.1"
  }
 },
 "nbformat": 4,
 "nbformat_minor": 5
}

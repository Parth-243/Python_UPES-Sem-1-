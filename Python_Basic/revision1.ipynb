{
 "cells": [
  {
   "cell_type": "code",
   "execution_count": 50,
   "id": "ee36831f-baf3-461b-ad3c-5c5d21860fba",
   "metadata": {},
   "outputs": [
    {
     "name": "stdout",
     "output_type": "stream",
     "text": [
      "3\n"
     ]
    }
   ],
   "source": [
    "# d=20\n",
    "# f=d\n",
    "# print(id(d))\n",
    "# print(id(f))\n",
    "# print(type(d))\n",
    "\n",
    "# a=-20.0123\n",
    "# print(abs(a))\n",
    "# # print(pow(a,2))\n",
    "# print(round(a,2))\n",
    "# print(max(1,4,4,4))\n",
    "# print(min(1,4,4,4))\n",
    "\n",
    "a={1:\"a\",2:\"b\"}\n",
    "print(sum(a))\n"
   ]
  },
  {
   "cell_type": "code",
   "execution_count": null,
   "id": "6f13d2a8-891e-4f14-916d-b58e685a14ff",
   "metadata": {},
   "outputs": [],
   "source": []
  }
 ],
 "metadata": {
  "kernelspec": {
   "display_name": "Python 3 (ipykernel)",
   "language": "python",
   "name": "python3"
  },
  "language_info": {
   "codemirror_mode": {
    "name": "ipython",
    "version": 3
   },
   "file_extension": ".py",
   "mimetype": "text/x-python",
   "name": "python",
   "nbconvert_exporter": "python",
   "pygments_lexer": "ipython3",
   "version": "3.12.1"
  }
 },
 "nbformat": 4,
 "nbformat_minor": 5
}

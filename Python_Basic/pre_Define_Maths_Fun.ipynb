{
 "cells": [
  {
   "cell_type": "code",
   "execution_count": 7,
   "metadata": {},
   "outputs": [
    {
     "name": "stdin",
     "output_type": "stream",
     "text": [
      "Enter number:  -0\n"
     ]
    },
    {
     "name": "stdout",
     "output_type": "stream",
     "text": [
      "The No. is 0 but the absolute No. is 0\n"
     ]
    }
   ],
   "source": [
    "# Pre- define mathematical Function using buit-in math module\n",
    "# 1. Basic Math Functions\n",
    "\n",
    "# Returns the absolute value of num. \n",
    "# abs(x) -> abs(-5) → 5\n",
    "\n",
    "num= int(input(\"Enter number: \"))\n",
    "print(f\"The No. is {num} but the absolute No. is {abs(num)}\")\n"
   ]
  },
  {
   "cell_type": "code",
   "execution_count": 6,
   "metadata": {},
   "outputs": [
    {
     "name": "stdin",
     "output_type": "stream",
     "text": [
      "Enter the NO.  5\n",
      "Enter the power:  2\n"
     ]
    },
    {
     "name": "stdout",
     "output_type": "stream",
     "text": [
      "The 5 power 2 is : 25\n"
     ]
    }
   ],
   "source": [
    "# Returns x raised to the power y (same as x**y). \n",
    "# pow(x, y) -> pow(2, 3) → 8\n",
    "\n",
    "num1= int(input(\"Enter the NO. \"))\n",
    "power= int(input(\"Enter the power: \"))\n",
    "print(f\"The {num1} power {power} is : {pow(num1,power)}\")\n"
   ]
  },
  {
   "cell_type": "code",
   "execution_count": 13,
   "metadata": {},
   "outputs": [
    {
     "name": "stdout",
     "output_type": "stream",
     "text": [
      "We have Left one product left:-\n",
      "1. Shirt: $ 840.254\n"
     ]
    },
    {
     "name": "stdin",
     "output_type": "stream",
     "text": [
      "Type 'yes'/'No' to place an order:  yes\n",
      "Enter the Quantity:  3\n"
     ]
    },
    {
     "name": "stdout",
     "output_type": "stream",
     "text": [
      "Your total amount is 2520.76 for $840.25 Shirt\n"
     ]
    }
   ],
   "source": [
    "# Rounds x to n decimal places (default n=0). \n",
    "# round(x, n) -> round(3.14159, 2) → 3.14\n",
    "\n",
    "shirt_price = 840.2540\n",
    "print(\"We have Left one product left:-\")\n",
    "print(f\"1. Shirt: $ {shirt_price}\")\n",
    "\n",
    "buy= input(\"Type 'yes'/'No' to place an order: \")\n",
    "\n",
    "if(buy == \"yes\" or buy == \"Yes\"):\n",
    "    quantity= int(input(\"Enter the Quantity: \"))\n",
    "    total = round(quantity*shirt_price, 2) # using round function\n",
    "    print(f\"Your total amount is {total} for ${round(shirt_price,2)} Shirt\")\n",
    "elif(buy == 'no' or buy == 'No'):\n",
    "    print(\"Thank you for Visiting\")\n",
    "else:\n",
    "    print(\"Envalid input\")"
   ]
  },
  {
   "cell_type": "code",
   "execution_count": 20,
   "metadata": {},
   "outputs": [
    {
     "name": "stdout",
     "output_type": "stream",
     "text": [
      "Enter Three numbers: \n"
     ]
    },
    {
     "name": "stdin",
     "output_type": "stream",
     "text": [
      "->  2\n",
      "->  3\n",
      "->  -100\n"
     ]
    },
    {
     "name": "stdout",
     "output_type": "stream",
     "text": [
      "The Largest value is 3\n"
     ]
    }
   ],
   "source": [
    "# Returns the largest value.\n",
    "# max(a, b, c, ...) -> max(1, 5, 3) → 5\n",
    "\n",
    "print(\"Enter Three numbers: \")\n",
    "num1= int (input(\"-> \"))\n",
    "num2= int (input(\"-> \"))\n",
    "num3= int (input(\"-> \"))\n",
    "\n",
    "largest_value= max(num1,num2,num3)\n",
    "# largest_value= max(1.00,1,1.00003) output- 1.0003\n",
    "print(f\"The Largest value is {largest_value}\")"
   ]
  },
  {
   "cell_type": "code",
   "execution_count": 24,
   "metadata": {},
   "outputs": [
    {
     "name": "stdout",
     "output_type": "stream",
     "text": [
      "Enter Three numbers: \n"
     ]
    },
    {
     "name": "stdin",
     "output_type": "stream",
     "text": [
      "->  2\n",
      "->  3\n",
      "->  4\n"
     ]
    },
    {
     "name": "stdout",
     "output_type": "stream",
     "text": [
      "The Largest value is 2\n"
     ]
    }
   ],
   "source": [
    "# Returns the smallest value.\n",
    "# min(a, b, c, ...) -> min(1, 5, 3) → 1\n",
    "\n",
    "print(\"Enter Three numbers: \")\n",
    "num1= int (input(\"-> \"))\n",
    "num2= int (input(\"-> \"))\n",
    "num3= int (input(\"-> \"))\n",
    "\n",
    "largest_value= min(num1,num2,num3)\n",
    "# largest_value= min(1.00,1,2) #output- 1\n",
    "print(f\"The Largest value is {largest_value}\")"
   ]
  },
  {
   "cell_type": "code",
   "execution_count": 1,
   "metadata": {},
   "outputs": [
    {
     "name": "stdout",
     "output_type": "stream",
     "text": [
      "6\n"
     ]
    }
   ],
   "source": [
    "# Returns the sum of all items in an iterable (list, tuple, etc.).\n",
    "# sum(iterable) -> sum([1, 2, 3]) → 6\n",
    "\n",
    "list1 = [1, 2, 3]\n",
    "sum_value = sum(list1)\n",
    "print(sum_value)"
   ]
  },
  {
   "cell_type": "code",
   "execution_count": 3,
   "metadata": {},
   "outputs": [
    {
     "name": "stdout",
     "output_type": "stream",
     "text": [
      "Enter two numbers: \n"
     ]
    },
    {
     "name": "stdin",
     "output_type": "stream",
     "text": [
      "a:  5\n",
      "b:  5\n"
     ]
    },
    {
     "name": "stdout",
     "output_type": "stream",
     "text": [
      "The Q and R of 5 and 5 is (1, 0) respectively\n"
     ]
    }
   ],
   "source": [
    "# Returns a tuple (quotient, remainder) of x divided by y.\n",
    "# divmod(x, y) -> divmod(9, 2) → (4, 1)\n",
    "print(\"Enter two numbers: \")\n",
    "a=int(input(\"a: \"))\n",
    "b=int(input(\"b: \"))\n",
    "questientAndremainder=divmod(a,b);\n",
    "print(f\"The Q and R of {a} and {b} is {questientAndremainder} respectively\")"
   ]
  },
  {
   "cell_type": "code",
   "execution_count": 6,
   "metadata": {},
   "outputs": [
    {
     "name": "stdin",
     "output_type": "stream",
     "text": [
      "Enter the NO.  4\n"
     ]
    },
    {
     "name": "stdout",
     "output_type": "stream",
     "text": [
      "The Suar root of 4 is : 2.0\n"
     ]
    }
   ],
   "source": [
    "# 2. Power and Root Functions\n",
    "\n",
    "# Returns the square root of x.\n",
    "# math.sqrt(x) -> math.sqrt(x)\n",
    "import math\n",
    "num1= int(input(\"Enter the NO. \"))\n",
    "result= math.sqrt(num1)\n",
    "print(f\"The Suar root of {num1} is : {result}\")"
   ]
  },
  {
   "cell_type": "code",
   "execution_count": 7,
   "metadata": {},
   "outputs": [
    {
     "name": "stdout",
     "output_type": "stream",
     "text": [
      "3.141592653589793\n",
      "2.718281828459045\n",
      "inf\n",
      "nan\n"
     ]
    }
   ],
   "source": [
    "# 3. Constants\n",
    "# The math module also provides some useful constants like pi and e.\n",
    "\n",
    "import math\n",
    "print(math.pi)\n",
    "print(math.e)\n",
    "print(math.inf)\n",
    "print(math.nan)"
   ]
  },
  {
   "cell_type": "code",
   "execution_count": 12,
   "metadata": {},
   "outputs": [
    {
     "name": "stdin",
     "output_type": "stream",
     "text": [
      "Enter No. :  3.1\n"
     ]
    },
    {
     "name": "stdout",
     "output_type": "stream",
     "text": [
      "The No. is 3.1, rounds upwards: 4\n"
     ]
    }
   ],
   "source": [
    "# 4. Miscellaneous Functions\n",
    "\n",
    "# Rounds x upwards to the nearest integer.\n",
    "# math.ceil(x) -> math.ceil(3.4) → 4\n",
    "import math\n",
    "a= float(input(\"Enter No. : \"))\n",
    "print (f\"The No. is {a}, rounds upwards: {math.ceil(a)}\")\n",
    "               "
   ]
  },
  {
   "cell_type": "code",
   "execution_count": 16,
   "metadata": {},
   "outputs": [
    {
     "name": "stdin",
     "output_type": "stream",
     "text": [
      "Enter No. :  3.10\n"
     ]
    },
    {
     "name": "stdout",
     "output_type": "stream",
     "text": [
      "The No. is 3.1, rounds upwards: 3\n"
     ]
    }
   ],
   "source": [
    "# Rounds x downwards to the nearest integer.\n",
    "# math.floor(x) -> math.floor(3.9) → 3\n",
    "import math\n",
    "a= float(input(\"Enter No. : \"))\n",
    "print (f\"The No. is {a}, rounds upwards: {math.floor(a)}\")"
   ]
  },
  {
   "cell_type": "code",
   "execution_count": 23,
   "metadata": {},
   "outputs": [
    {
     "name": "stdin",
     "output_type": "stream",
     "text": [
      "Enter No. :  5\n"
     ]
    },
    {
     "name": "stdout",
     "output_type": "stream",
     "text": [
      "The Factorial of 5 is 120\n"
     ]
    }
   ],
   "source": [
    "# Returns the factorial of x (must be a non-negative integer).\n",
    "# math.factorial(x) ->  math.factorial(5) → 120 1*2*3*4*5 = 120\n",
    "import math\n",
    "a= int(input(\"Enter No. : \"))\n",
    "print (f\"The Factorial of {a} is {math.factorial(a)}\")"
   ]
  },
  {
   "cell_type": "code",
   "execution_count": 26,
   "metadata": {},
   "outputs": [
    {
     "name": "stdout",
     "output_type": "stream",
     "text": [
      "Enter two numbers: \n"
     ]
    },
    {
     "name": "stdin",
     "output_type": "stream",
     "text": [
      "a:  3\n",
      "b:  17\n"
     ]
    },
    {
     "name": "stdout",
     "output_type": "stream",
     "text": [
      "The greatest common divisor of 3 and 17 is 1\n"
     ]
    }
   ],
   "source": [
    "# Returns the greatest common divisor (GCD) of x and y.\n",
    "# math.gcd(x, y) -> math.gcd(8, 12) → 4\n",
    "import math\n",
    "print(\"Enter two numbers: \")\n",
    "a=int(input(\"a: \"))\n",
    "b=int(input(\"b: \"))\n",
    "C=math.gcd(a,b);\n",
    "print(f\"The greatest common divisor of {a} and {b} is {C}\")"
   ]
  },
  {
   "cell_type": "code",
   "execution_count": 29,
   "metadata": {},
   "outputs": [
    {
     "name": "stdin",
     "output_type": "stream",
     "text": [
      "Enter No.:  1000\n"
     ]
    },
    {
     "name": "stdout",
     "output_type": "stream",
     "text": [
      "True\n",
      "True\n",
      "True\n"
     ]
    }
   ],
   "source": [
    "# Checks if x is neither infinity nor NaN.\n",
    "# math.isfinite(x) -> math.isfinite(100) → True\n",
    "import math\n",
    "num1= int(input(\"Enter No.: \"))\n",
    "print(math.isfinite(num1))\n",
    "\n",
    "# Checks if x is infinity.\n",
    "# math.isinf(x) -> \tmath.isinf(math.inf) → True\n",
    "print(math.isinf(math.inf))\n",
    "\n",
    "# Checks if x is NaN (not a number).\n",
    "# math.isnan(x) -> math.isnan(math.nan) → True\n",
    "print(math.isnan(math.nan))"
   ]
  },
  {
   "cell_type": "code",
   "execution_count": null,
   "metadata": {},
   "outputs": [],
   "source": [
    "# 2. Trigonometric Functions\n",
    "# The math module provides several functions for trigonometric calculations.\n",
    "\n",
    "# math.sin(x)\t    Returns the sine of x (in radians).\t              math.sin(math.pi / 2) → 1.0\n",
    "# math.cos(x)\t    Returns the cosine of x (in radians).\t          math.cos(0) → 1.0\n",
    "# math.tan(x)\t    Returns the tangent of x (in radians).\t          math.tan(math.pi / 4) → 1.0\n",
    "# math.asin(x)\t    Returns the arc sine (inverse sine) of x.\t      math.asin(1) → 1.5708\n",
    "# math.acos(x)\t    Returns the arc cosine (inverse cosine) of x.\t  math.acos(1) → 0.0\n",
    "# math.atan(x)\t    Returns the arc tangent (inverse tangent) of x.\t  math.atan(1) → 0.7854\n",
    "# math.degrees(x)\tConverts angle x from radians to degrees.\t      math.degrees(math.pi) → 180.0\n",
    "# math.radians(x)\tConverts angle x from degrees to radians.\t      math.radians(180) → 3.14159"
   ]
  },
  {
   "cell_type": "code",
   "execution_count": null,
   "metadata": {},
   "outputs": [],
   "source": [
    "#  3. Exponential and Logarithmic Functions\n",
    "#  These functions are used for exponentiation, logarithms, and working with natural constants like e.\n",
    "\n",
    "# math.exp(x)\t        Returns e raised to the power x.\t            math.exp(1) → 2.71828\n",
    "# math.log(x)\t        Returns the natural logarithm (base e) of x.\tmath.log(math.e) → 1.0\n",
    "# math.log(x, base)\tReturns the logarithm of x to the given base.\tmath.log(100, 10) → 2.0\n",
    "# math.log10(x)\t    Returns the base-10 logarithm of x.\t            math.log10(1000) → 3.0\n",
    "# math.log2(x)\t    Returns the base-2 logarithm of x.\t            math.log2(8) → 3.0"
   ]
  }
 ],
 "metadata": {
  "kernelspec": {
   "display_name": "Python 3 (ipykernel)",
   "language": "python",
   "name": "python3"
  },
  "language_info": {
   "codemirror_mode": {
    "name": "ipython",
    "version": 3
   },
   "file_extension": ".py",
   "mimetype": "text/x-python",
   "name": "python",
   "nbconvert_exporter": "python",
   "pygments_lexer": "ipython3",
   "version": "3.12.1"
  }
 },
 "nbformat": 4,
 "nbformat_minor": 4
}

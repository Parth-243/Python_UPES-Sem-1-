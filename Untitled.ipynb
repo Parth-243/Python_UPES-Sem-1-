{
 "cells": [
  {
   "cell_type": "code",
   "execution_count": 1,
   "id": "2ed793ab-cefa-4f98-b30e-cb9c3927dabf",
   "metadata": {},
   "outputs": [
    {
     "name": "stdout",
     "output_type": "stream",
     "text": [
      "[5, 6, 6]\n"
     ]
    }
   ],
   "source": [
    "fruits = ['apple', 'banana', 'cherry']\n",
    "fruit_lengths = [len(fruit) for fruit in fruits]\n",
    "print(fruit_lengths)\n"
   ]
  },
  {
   "cell_type": "code",
   "execution_count": 2,
   "id": "c4d0395d-1f7d-41c2-807c-5a8494ec39c1",
   "metadata": {},
   "outputs": [
    {
     "name": "stdout",
     "output_type": "stream",
     "text": [
      "{'apple': 5, 'banana': 6, 'cherry': 6}\n"
     ]
    }
   ],
   "source": [
    " fruits = ['apple', 'banana', 'cherry']\n",
    "fruit_dict = {fruit: len(fruit) for fruit in fruits}\n",
    "print(fruit_dict)"
   ]
  },
  {
   "cell_type": "code",
   "execution_count": 3,
   "id": "8996dd47-84a9-499e-b5f6-06e2fe201a36",
   "metadata": {},
   "outputs": [
    {
     "name": "stdout",
     "output_type": "stream",
     "text": [
      "{1: 'a', 2: 'b', 3: 'c'}\n"
     ]
    }
   ],
   "source": [
    "original_dict = {'a': 1, 'b': 2, 'c': 3}\n",
    "inverted_dict = {value: key for key, value in original_dict.items()}\n",
    "print(inverted_dict)\n"
   ]
  },
  {
   "cell_type": "code",
   "execution_count": 4,
   "id": "c7381aed-bcd2-437f-bc1d-5701a7799013",
   "metadata": {},
   "outputs": [
    {
     "name": "stdout",
     "output_type": "stream",
     "text": [
      "{0: {0: 1, 1: 2, 2: 3}, 1: {0: 4, 1: 5, 2: 6}}\n"
     ]
    }
   ],
   "source": [
    "matrix = [[1, 2, 3], [4, 5, 6]]\n",
    "dict_matrix = {i: {j: value for j, value in enumerate(row)} for i, row in enumerate(matrix)}\n",
    "print(dict_matrix)\n"
   ]
  },
  {
   "cell_type": "code",
   "execution_count": 5,
   "id": "5baab1c5-59b1-4927-8d52-13c632550c0f",
   "metadata": {},
   "outputs": [
    {
     "ename": "NameError",
     "evalue": "name 'iterable' is not defined",
     "output_type": "error",
     "traceback": [
      "\u001b[1;31m---------------------------------------------------------------------------\u001b[0m",
      "\u001b[1;31mNameError\u001b[0m                                 Traceback (most recent call last)",
      "Cell \u001b[1;32mIn[5], line 1\u001b[0m\n\u001b[1;32m----> 1\u001b[0m {key_expression: value_expression \u001b[38;5;28;01mfor\u001b[39;00m item \u001b[38;5;129;01min\u001b[39;00m \u001b[43miterable\u001b[49m \u001b[38;5;28;01mif\u001b[39;00m condition}\n",
      "\u001b[1;31mNameError\u001b[0m: name 'iterable' is not defined"
     ]
    }
   ],
   "source": [
    "{key_expression: value_expression for item in iterable if condition}\n"
   ]
  },
  {
   "cell_type": "code",
   "execution_count": null,
   "id": "aa8dd5a5-5ed8-420d-9d19-6dc068670f58",
   "metadata": {},
   "outputs": [],
   "source": []
  }
 ],
 "metadata": {
  "kernelspec": {
   "display_name": "Python 3 (ipykernel)",
   "language": "python",
   "name": "python3"
  },
  "language_info": {
   "codemirror_mode": {
    "name": "ipython",
    "version": 3
   },
   "file_extension": ".py",
   "mimetype": "text/x-python",
   "name": "python",
   "nbconvert_exporter": "python",
   "pygments_lexer": "ipython3",
   "version": "3.12.1"
  }
 },
 "nbformat": 4,
 "nbformat_minor": 5
}

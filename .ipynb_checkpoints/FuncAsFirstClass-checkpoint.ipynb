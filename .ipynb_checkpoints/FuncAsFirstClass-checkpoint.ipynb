{
 "cells": [
  {
   "cell_type": "code",
   "execution_count": 1,
   "id": "c686172f-9ec6-4e04-b4f5-1faef4d5659b",
   "metadata": {},
   "outputs": [],
   "source": [
    "def double(x):\n",
    "\n",
    "    return x * 2\n",
    "def triple(x):\n",
    "    return x * 3\n",
    "def apply_operation(func, number):\n",
    "    return func(number)\n",
    "    "
   ]
  },
  {
   "cell_type": "code",
   "execution_count": 2,
   "id": "c1ab6369-a67b-43e5-987d-e92cc2bb102f",
   "metadata": {},
   "outputs": [
    {
     "name": "stdout",
     "output_type": "stream",
     "text": [
      "10\n",
      "15\n"
     ]
    }
   ],
   "source": [
    "\n",
    "print(apply_operation(double, 5))  # Output: 10n\n",
    "print(apply_operation(triple, 5))  # Output: 15"
   ]
  },
  {
   "cell_type": "code",
   "execution_count": null,
   "id": "eaa98443-fe0b-468e-93c8-0af6e2c6504d",
   "metadata": {},
   "outputs": [],
   "source": []
  }
 ],
 "metadata": {
  "kernelspec": {
   "display_name": "Python 3 (ipykernel)",
   "language": "python",
   "name": "python3"
  },
  "language_info": {
   "codemirror_mode": {
    "name": "ipython",
    "version": 3
   },
   "file_extension": ".py",
   "mimetype": "text/x-python",
   "name": "python",
   "nbconvert_exporter": "python",
   "pygments_lexer": "ipython3",
   "version": "3.12.1"
  }
 },
 "nbformat": 4,
 "nbformat_minor": 5
}
